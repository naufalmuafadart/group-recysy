{
 "cells": [
  {
   "metadata": {},
   "cell_type": "markdown",
   "source": "Import library",
   "id": "73e39a86fb54bd28"
  },
  {
   "cell_type": "code",
   "id": "initial_id",
   "metadata": {
    "collapsed": true,
    "ExecuteTime": {
     "end_time": "2025-05-11T20:03:44.995889Z",
     "start_time": "2025-05-11T20:03:44.992513Z"
    }
   },
   "source": [
    "import pandas as pd\n",
    "import numpy as np\n",
    "from scipy.stats import rankdata"
   ],
   "outputs": [],
   "execution_count": 16
  },
  {
   "metadata": {},
   "cell_type": "markdown",
   "source": "# Read dataset",
   "id": "3b39de0fadd5cb9f"
  },
  {
   "metadata": {
    "ExecuteTime": {
     "end_time": "2025-05-11T20:03:45.061268Z",
     "start_time": "2025-05-11T20:03:45.043006Z"
    }
   },
   "cell_type": "code",
   "source": [
    "df_user_item = pd.read_csv('./dataset/user_rating.csv')\n",
    "df_user_item.head()"
   ],
   "id": "ebd8fe5cd16f1951",
   "outputs": [
    {
     "data": {
      "text/plain": [
       "     1    2    3    4    5    6    7    8    9   10  ...   91   92   93   94  \\\n",
       "0  0.0  3.0  0.0  0.0  0.0  0.0  5.0  5.0  0.0  0.0  ...  0.0  0.0  0.0  0.0   \n",
       "1  0.0  3.0  5.0  0.0  2.0  3.0  5.0  5.0  0.0  5.0  ...  0.0  0.0  0.0  0.0   \n",
       "2  4.0  5.0  0.0  5.0  0.0  1.0  0.0  5.0  4.0  0.0  ...  0.0  0.0  0.0  0.0   \n",
       "3  4.0  0.0  3.0  5.0  0.0  0.0  0.0  1.0  0.0  5.0  ...  0.0  0.0  0.0  0.0   \n",
       "4  1.0  0.0  5.0  0.0  4.0  0.0  0.0  0.0  0.0  5.0  ...  0.0  0.0  0.0  0.0   \n",
       "\n",
       "    95   96   97   98   99  100  \n",
       "0  0.0  0.0  0.0  0.0  0.0  0.0  \n",
       "1  0.0  0.0  0.0  0.0  0.0  0.0  \n",
       "2  0.0  0.0  0.0  0.0  0.0  0.0  \n",
       "3  0.0  0.0  0.0  0.0  0.0  0.0  \n",
       "4  0.0  0.0  0.0  0.0  0.0  0.0  \n",
       "\n",
       "[5 rows x 100 columns]"
      ],
      "text/html": [
       "<div>\n",
       "<style scoped>\n",
       "    .dataframe tbody tr th:only-of-type {\n",
       "        vertical-align: middle;\n",
       "    }\n",
       "\n",
       "    .dataframe tbody tr th {\n",
       "        vertical-align: top;\n",
       "    }\n",
       "\n",
       "    .dataframe thead th {\n",
       "        text-align: right;\n",
       "    }\n",
       "</style>\n",
       "<table border=\"1\" class=\"dataframe\">\n",
       "  <thead>\n",
       "    <tr style=\"text-align: right;\">\n",
       "      <th></th>\n",
       "      <th>1</th>\n",
       "      <th>2</th>\n",
       "      <th>3</th>\n",
       "      <th>4</th>\n",
       "      <th>5</th>\n",
       "      <th>6</th>\n",
       "      <th>7</th>\n",
       "      <th>8</th>\n",
       "      <th>9</th>\n",
       "      <th>10</th>\n",
       "      <th>...</th>\n",
       "      <th>91</th>\n",
       "      <th>92</th>\n",
       "      <th>93</th>\n",
       "      <th>94</th>\n",
       "      <th>95</th>\n",
       "      <th>96</th>\n",
       "      <th>97</th>\n",
       "      <th>98</th>\n",
       "      <th>99</th>\n",
       "      <th>100</th>\n",
       "    </tr>\n",
       "  </thead>\n",
       "  <tbody>\n",
       "    <tr>\n",
       "      <th>0</th>\n",
       "      <td>0.0</td>\n",
       "      <td>3.0</td>\n",
       "      <td>0.0</td>\n",
       "      <td>0.0</td>\n",
       "      <td>0.0</td>\n",
       "      <td>0.0</td>\n",
       "      <td>5.0</td>\n",
       "      <td>5.0</td>\n",
       "      <td>0.0</td>\n",
       "      <td>0.0</td>\n",
       "      <td>...</td>\n",
       "      <td>0.0</td>\n",
       "      <td>0.0</td>\n",
       "      <td>0.0</td>\n",
       "      <td>0.0</td>\n",
       "      <td>0.0</td>\n",
       "      <td>0.0</td>\n",
       "      <td>0.0</td>\n",
       "      <td>0.0</td>\n",
       "      <td>0.0</td>\n",
       "      <td>0.0</td>\n",
       "    </tr>\n",
       "    <tr>\n",
       "      <th>1</th>\n",
       "      <td>0.0</td>\n",
       "      <td>3.0</td>\n",
       "      <td>5.0</td>\n",
       "      <td>0.0</td>\n",
       "      <td>2.0</td>\n",
       "      <td>3.0</td>\n",
       "      <td>5.0</td>\n",
       "      <td>5.0</td>\n",
       "      <td>0.0</td>\n",
       "      <td>5.0</td>\n",
       "      <td>...</td>\n",
       "      <td>0.0</td>\n",
       "      <td>0.0</td>\n",
       "      <td>0.0</td>\n",
       "      <td>0.0</td>\n",
       "      <td>0.0</td>\n",
       "      <td>0.0</td>\n",
       "      <td>0.0</td>\n",
       "      <td>0.0</td>\n",
       "      <td>0.0</td>\n",
       "      <td>0.0</td>\n",
       "    </tr>\n",
       "    <tr>\n",
       "      <th>2</th>\n",
       "      <td>4.0</td>\n",
       "      <td>5.0</td>\n",
       "      <td>0.0</td>\n",
       "      <td>5.0</td>\n",
       "      <td>0.0</td>\n",
       "      <td>1.0</td>\n",
       "      <td>0.0</td>\n",
       "      <td>5.0</td>\n",
       "      <td>4.0</td>\n",
       "      <td>0.0</td>\n",
       "      <td>...</td>\n",
       "      <td>0.0</td>\n",
       "      <td>0.0</td>\n",
       "      <td>0.0</td>\n",
       "      <td>0.0</td>\n",
       "      <td>0.0</td>\n",
       "      <td>0.0</td>\n",
       "      <td>0.0</td>\n",
       "      <td>0.0</td>\n",
       "      <td>0.0</td>\n",
       "      <td>0.0</td>\n",
       "    </tr>\n",
       "    <tr>\n",
       "      <th>3</th>\n",
       "      <td>4.0</td>\n",
       "      <td>0.0</td>\n",
       "      <td>3.0</td>\n",
       "      <td>5.0</td>\n",
       "      <td>0.0</td>\n",
       "      <td>0.0</td>\n",
       "      <td>0.0</td>\n",
       "      <td>1.0</td>\n",
       "      <td>0.0</td>\n",
       "      <td>5.0</td>\n",
       "      <td>...</td>\n",
       "      <td>0.0</td>\n",
       "      <td>0.0</td>\n",
       "      <td>0.0</td>\n",
       "      <td>0.0</td>\n",
       "      <td>0.0</td>\n",
       "      <td>0.0</td>\n",
       "      <td>0.0</td>\n",
       "      <td>0.0</td>\n",
       "      <td>0.0</td>\n",
       "      <td>0.0</td>\n",
       "    </tr>\n",
       "    <tr>\n",
       "      <th>4</th>\n",
       "      <td>1.0</td>\n",
       "      <td>0.0</td>\n",
       "      <td>5.0</td>\n",
       "      <td>0.0</td>\n",
       "      <td>4.0</td>\n",
       "      <td>0.0</td>\n",
       "      <td>0.0</td>\n",
       "      <td>0.0</td>\n",
       "      <td>0.0</td>\n",
       "      <td>5.0</td>\n",
       "      <td>...</td>\n",
       "      <td>0.0</td>\n",
       "      <td>0.0</td>\n",
       "      <td>0.0</td>\n",
       "      <td>0.0</td>\n",
       "      <td>0.0</td>\n",
       "      <td>0.0</td>\n",
       "      <td>0.0</td>\n",
       "      <td>0.0</td>\n",
       "      <td>0.0</td>\n",
       "      <td>0.0</td>\n",
       "    </tr>\n",
       "  </tbody>\n",
       "</table>\n",
       "<p>5 rows × 100 columns</p>\n",
       "</div>"
      ]
     },
     "execution_count": 17,
     "metadata": {},
     "output_type": "execute_result"
    }
   ],
   "execution_count": 17
  },
  {
   "metadata": {},
   "cell_type": "markdown",
   "source": "convert dataframe to numpy matrix",
   "id": "9e008a053701c810"
  },
  {
   "metadata": {
    "ExecuteTime": {
     "end_time": "2025-05-11T20:03:45.131011Z",
     "start_time": "2025-05-11T20:03:45.127485Z"
    }
   },
   "cell_type": "code",
   "source": [
    "matrix = df_user_item.to_numpy()\n",
    "matrix"
   ],
   "id": "2f8abc319ccec464",
   "outputs": [
    {
     "data": {
      "text/plain": [
       "array([[0., 3., 0., ..., 0., 0., 0.],\n",
       "       [0., 3., 5., ..., 0., 0., 0.],\n",
       "       [4., 5., 0., ..., 0., 0., 0.],\n",
       "       ...,\n",
       "       [0., 3., 0., ..., 0., 0., 0.],\n",
       "       [4., 4., 5., ..., 0., 0., 0.],\n",
       "       [1., 0., 0., ..., 0., 0., 0.]])"
      ]
     },
     "execution_count": 18,
     "metadata": {},
     "output_type": "execute_result"
    }
   ],
   "execution_count": 18
  },
  {
   "metadata": {},
   "cell_type": "markdown",
   "source": "# Rekomendasi",
   "id": "864a5fd07a73710a"
  },
  {
   "metadata": {},
   "cell_type": "markdown",
   "source": "## 1. Average",
   "id": "e8ad1164484ae899"
  },
  {
   "metadata": {},
   "cell_type": "markdown",
   "source": [
    "### Group Recommendation using Average Method\n",
    "\n",
    "The average method for group recommendations works by:\n",
    "1. Taking individual ratings/preferences from each group member\n",
    "2. Calculating the average rating for each item across all group members\n",
    "3. Recommending items with the highest average ratings"
   ],
   "id": "e09f65d4a2ccac1f"
  },
  {
   "metadata": {
    "ExecuteTime": {
     "end_time": "2025-05-11T20:03:45.453335Z",
     "start_time": "2025-05-11T20:03:45.448085Z"
    }
   },
   "cell_type": "code",
   "source": [
    "def recommend_group_average(matrix, group_members, n_recommendations=5):\n",
    "    # Get ratings for group members\n",
    "    group_ratings = matrix[group_members]\n",
    "\n",
    "    # Calculate average rating for each item\n",
    "    average_ratings = np.mean(group_ratings, axis=0)\n",
    "\n",
    "    # Get indices of top N items\n",
    "    top_n_indices = np.argsort(average_ratings)[::-1][:n_recommendations]\n",
    "\n",
    "    return top_n_indices, average_ratings[top_n_indices]"
   ],
   "id": "2835c6be8b9afa7c",
   "outputs": [],
   "execution_count": 19
  },
  {
   "metadata": {
    "ExecuteTime": {
     "end_time": "2025-05-11T20:03:45.591822Z",
     "start_time": "2025-05-11T20:03:45.587764Z"
    }
   },
   "cell_type": "code",
   "source": [
    "# Example usage\n",
    "group = [0, 1, 2]  # Example group with users 0,1,2\n",
    "recommended_items, scores = recommend_group_average(matrix, group)\n",
    "\n",
    "print(\"Recommended items (indices):\", recommended_items)\n",
    "print(\"Recommendation scores:\", scores)"
   ],
   "id": "6806ecaf855d329a",
   "outputs": [
    {
     "name": "stdout",
     "output_type": "stream",
     "text": [
      "Recommended items (indices): [40  7 12 36 34]\n",
      "Recommendation scores: [5.         5.         4.66666667 4.66666667 4.66666667]\n"
     ]
    }
   ],
   "execution_count": 20
  },
  {
   "metadata": {},
   "cell_type": "markdown",
   "source": "## 2. Least Misery",
   "id": "6cd29f6c0adc412"
  },
  {
   "metadata": {},
   "cell_type": "markdown",
   "source": [
    "### Group Recommendation using Least Misery Method\n",
    "\n",
    "The Least Misery strategy aims to minimize the disagreement within a group by:\n",
    "1. Taking individual ratings from each group member\n",
    "2. For each item, using the minimum rating across all group members\n",
    "3. Recommending items with the highest minimum ratings\n",
    "\n",
    "This ensures no group member strongly dislikes the recommended items."
   ],
   "id": "64a6ad2332d11918"
  },
  {
   "metadata": {
    "ExecuteTime": {
     "end_time": "2025-05-11T20:03:45.670297Z",
     "start_time": "2025-05-11T20:03:45.667202Z"
    }
   },
   "cell_type": "code",
   "source": [
    "def recommend_group_least_misery(matrix, group_members, n_recommendations=5):\n",
    "    # Get ratings for group members\n",
    "    group_ratings = matrix[group_members]\n",
    "\n",
    "    # Calculate minimum rating for each item\n",
    "    min_ratings = np.min(group_ratings, axis=0)\n",
    "\n",
    "    # Get indices of top N items\n",
    "    top_n_indices = np.argsort(min_ratings)[::-1][:n_recommendations]\n",
    "\n",
    "    return top_n_indices, min_ratings[top_n_indices]"
   ],
   "id": "b7e4ce2693c8bfc9",
   "outputs": [],
   "execution_count": 21
  },
  {
   "metadata": {
    "ExecuteTime": {
     "end_time": "2025-05-11T20:03:45.803236Z",
     "start_time": "2025-05-11T20:03:45.731204Z"
    }
   },
   "cell_type": "code",
   "source": [
    "# Example usage with the same group\n",
    "group = [0, 1, 2]  # Group with users 0,1,2\n",
    "recommended_items, scores = recommend_group_least_misery(matrix, group)\n",
    "\n",
    "print(\"Recommended items (indices):\", recommended_items)\n",
    "print(\"Recommendation scores:\", scores)"
   ],
   "id": "552084dddb9afc1b",
   "outputs": [
    {
     "name": "stdout",
     "output_type": "stream",
     "text": [
      "Recommended items (indices): [ 7 40 12 34 36]\n",
      "Recommendation scores: [5. 5. 4. 4. 4.]\n"
     ]
    }
   ],
   "execution_count": 22
  },
  {
   "metadata": {},
   "cell_type": "markdown",
   "source": "## 3. Most Pleasure",
   "id": "33ad1103e8b900fb"
  },
  {
   "metadata": {},
   "cell_type": "markdown",
   "source": [
    "### Group Recommendation using Most Pleasure Method\n",
    "\n",
    "The Most Pleasure strategy focuses on maximizing satisfaction by:\n",
    "1. Taking individual ratings from each group member\n",
    "2. For each item, using the maximum rating across all group members\n",
    "3. Recommending items with the highest maximum ratings\n",
    "\n",
    "This approach emphasizes the most positive experiences of group members."
   ],
   "id": "87bf077cb63b3696"
  },
  {
   "metadata": {
    "ExecuteTime": {
     "end_time": "2025-05-11T20:03:45.854710Z",
     "start_time": "2025-05-11T20:03:45.851813Z"
    }
   },
   "cell_type": "code",
   "source": [
    "def recommend_group_most_pleasure(matrix, group_members, n_recommendations=5):\n",
    "    # Get ratings for group members\n",
    "    group_ratings = matrix[group_members]\n",
    "\n",
    "    # Calculate maximum rating for each item\n",
    "    max_ratings = np.max(group_ratings, axis=0)\n",
    "\n",
    "    # Get indices of top N items\n",
    "    top_n_indices = np.argsort(max_ratings)[::-1][:n_recommendations]\n",
    "\n",
    "    return top_n_indices, max_ratings[top_n_indices]"
   ],
   "id": "96e2886de2594dc1",
   "outputs": [],
   "execution_count": 23
  },
  {
   "metadata": {
    "ExecuteTime": {
     "end_time": "2025-05-11T20:03:45.896867Z",
     "start_time": "2025-05-11T20:03:45.894008Z"
    }
   },
   "cell_type": "code",
   "source": [
    "# Example usage with the same group\n",
    "group = [0, 1, 2]  # Group with users 0,1,2\n",
    "recommended_items, scores = recommend_group_most_pleasure(matrix, group)\n",
    "\n",
    "print(\"Recommended items (indices):\", recommended_items)\n",
    "print(\"Recommendation scores:\", scores)\n"
   ],
   "id": "8013874218139d3",
   "outputs": [
    {
     "name": "stdout",
     "output_type": "stream",
     "text": [
      "Recommended items (indices): [49 34 36 40 72]\n",
      "Recommendation scores: [5. 5. 5. 5. 5.]\n"
     ]
    }
   ],
   "execution_count": 24
  },
  {
   "metadata": {},
   "cell_type": "markdown",
   "source": "## 4. Borda",
   "id": "5d9325ac9ba6b3e2"
  },
  {
   "metadata": {},
   "cell_type": "markdown",
   "source": [
    "### Group Recommendation using Borda Method\n",
    "\n",
    "The Borda count method works by:\n",
    "1. Converting each member's ratings into rankings\n",
    "2. Assigning points based on rankings (N-rank points, where N is number of items)\n",
    "3. Summing up points across all members\n",
    "4. Recommending items with highest total points"
   ],
   "id": "9b59e95a91f9f623"
  },
  {
   "metadata": {
    "ExecuteTime": {
     "end_time": "2025-05-11T20:03:45.947033Z",
     "start_time": "2025-05-11T20:03:45.943066Z"
    }
   },
   "cell_type": "code",
   "source": [
    "def recommend_group_borda(matrix, group_members, n_recommendations=5):\n",
    "    # Get ratings for group members\n",
    "    group_ratings = matrix[group_members]\n",
    "\n",
    "    # Convert ratings to rankings for each user\n",
    "    n_items = matrix.shape[1]\n",
    "    borda_scores = np.zeros(n_items)\n",
    "\n",
    "    for user_ratings in group_ratings:\n",
    "        # Get ranking of items (handle ties with 'min' method)\n",
    "        ranking = n_items - rankdata(user_ratings, method='min')\n",
    "        # Add Borda points\n",
    "        borda_scores += ranking\n",
    "\n",
    "    # Get indices of top N items\n",
    "    top_n_indices = np.argsort(borda_scores)[::-1][:n_recommendations]\n",
    "\n",
    "    return top_n_indices, borda_scores[top_n_indices]"
   ],
   "id": "55fced93fd714185",
   "outputs": [],
   "execution_count": 25
  },
  {
   "metadata": {
    "ExecuteTime": {
     "end_time": "2025-05-11T20:03:46.001999Z",
     "start_time": "2025-05-11T20:03:45.997994Z"
    }
   },
   "cell_type": "code",
   "source": [
    "# Example usage with the same group\n",
    "group = [0, 1, 2]  # Group with users 0,1,2\n",
    "recommended_items, scores = recommend_group_borda(matrix, group)\n",
    "\n",
    "print(\"Recommended items (indices):\", recommended_items)\n",
    "print(\"Recommendation scores:\", scores)\n"
   ],
   "id": "fd02865ecf999cc0",
   "outputs": [
    {
     "name": "stdout",
     "output_type": "stream",
     "text": [
      "Recommended items (indices): [99 33 76 75 74]\n",
      "Recommendation scores: [297. 297. 297. 297. 297.]\n"
     ]
    }
   ],
   "execution_count": 26
  }
 ],
 "metadata": {
  "kernelspec": {
   "display_name": "Python 3",
   "language": "python",
   "name": "python3"
  },
  "language_info": {
   "codemirror_mode": {
    "name": "ipython",
    "version": 2
   },
   "file_extension": ".py",
   "mimetype": "text/x-python",
   "name": "python",
   "nbconvert_exporter": "python",
   "pygments_lexer": "ipython2",
   "version": "2.7.6"
  }
 },
 "nbformat": 4,
 "nbformat_minor": 5
}
