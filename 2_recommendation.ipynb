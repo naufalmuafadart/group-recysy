{
 "cells": [
  {
   "metadata": {},
   "cell_type": "markdown",
   "source": "Import library",
   "id": "73e39a86fb54bd28"
  },
  {
   "cell_type": "code",
   "id": "initial_id",
   "metadata": {
    "collapsed": true,
    "ExecuteTime": {
     "end_time": "2025-05-26T00:17:39.061733Z",
     "start_time": "2025-05-26T00:17:37.916447Z"
    }
   },
   "source": [
    "import pandas as pd\n",
    "import numpy as np\n",
    "from scipy.stats import rankdata"
   ],
   "outputs": [],
   "execution_count": 1
  },
  {
   "metadata": {},
   "cell_type": "markdown",
   "source": "# Read dataset",
   "id": "3b39de0fadd5cb9f"
  },
  {
   "metadata": {
    "ExecuteTime": {
     "end_time": "2025-05-26T00:17:39.111023Z",
     "start_time": "2025-05-26T00:17:39.081045Z"
    }
   },
   "cell_type": "code",
   "source": [
    "df_user_item = pd.read_csv('./dataset/user_rating_Item-based CF.csv')\n",
    "df_user_item.head()"
   ],
   "id": "ebd8fe5cd16f1951",
   "outputs": [
    {
     "data": {
      "text/plain": [
       "          1         2         3         4         5         6         7  \\\n",
       "0  2.770272  3.000000  3.957966  4.424952  3.856190  4.324151  5.000000   \n",
       "1  2.738733  3.000000  5.000000  4.402382  2.000000  3.000000  5.000000   \n",
       "2  4.000000  5.000000  3.918627  5.000000  3.815417  1.000000  4.616258   \n",
       "3  4.000000  3.896030  3.000000  5.000000  3.921901  4.409185  4.619848   \n",
       "4  1.000000  3.886082  5.000000  4.434295  4.000000  4.347749  4.669703   \n",
       "\n",
       "          8         9        10  ...        91        92        93        94  \\\n",
       "0  5.000000  3.421740  4.468440  ...  3.933333  3.933333  3.933333  3.933333   \n",
       "1  5.000000  3.461146  5.000000  ...  4.166667  4.166667  4.166667  4.166667   \n",
       "2  5.000000  4.000000  4.543643  ...  4.533333  4.533333  4.533333  4.533333   \n",
       "3  1.000000  3.496586  5.000000  ...  4.333333  4.333333  4.333333  4.333333   \n",
       "4  4.437355  3.287407  5.000000  ...  4.266667  4.266667  4.266667  4.266667   \n",
       "\n",
       "         95        96        97        98        99       100  \n",
       "0  3.933333  3.933333  3.933333  3.933333  3.933333  3.933333  \n",
       "1  4.166667  4.166667  4.166667  4.166667  4.166667  4.166667  \n",
       "2  4.533333  4.533333  4.533333  4.533333  4.533333  4.533333  \n",
       "3  4.333333  4.333333  4.333333  4.333333  4.333333  4.333333  \n",
       "4  4.266667  4.266667  4.266667  4.266667  4.266667  4.266667  \n",
       "\n",
       "[5 rows x 100 columns]"
      ],
      "text/html": [
       "<div>\n",
       "<style scoped>\n",
       "    .dataframe tbody tr th:only-of-type {\n",
       "        vertical-align: middle;\n",
       "    }\n",
       "\n",
       "    .dataframe tbody tr th {\n",
       "        vertical-align: top;\n",
       "    }\n",
       "\n",
       "    .dataframe thead th {\n",
       "        text-align: right;\n",
       "    }\n",
       "</style>\n",
       "<table border=\"1\" class=\"dataframe\">\n",
       "  <thead>\n",
       "    <tr style=\"text-align: right;\">\n",
       "      <th></th>\n",
       "      <th>1</th>\n",
       "      <th>2</th>\n",
       "      <th>3</th>\n",
       "      <th>4</th>\n",
       "      <th>5</th>\n",
       "      <th>6</th>\n",
       "      <th>7</th>\n",
       "      <th>8</th>\n",
       "      <th>9</th>\n",
       "      <th>10</th>\n",
       "      <th>...</th>\n",
       "      <th>91</th>\n",
       "      <th>92</th>\n",
       "      <th>93</th>\n",
       "      <th>94</th>\n",
       "      <th>95</th>\n",
       "      <th>96</th>\n",
       "      <th>97</th>\n",
       "      <th>98</th>\n",
       "      <th>99</th>\n",
       "      <th>100</th>\n",
       "    </tr>\n",
       "  </thead>\n",
       "  <tbody>\n",
       "    <tr>\n",
       "      <th>0</th>\n",
       "      <td>2.770272</td>\n",
       "      <td>3.000000</td>\n",
       "      <td>3.957966</td>\n",
       "      <td>4.424952</td>\n",
       "      <td>3.856190</td>\n",
       "      <td>4.324151</td>\n",
       "      <td>5.000000</td>\n",
       "      <td>5.000000</td>\n",
       "      <td>3.421740</td>\n",
       "      <td>4.468440</td>\n",
       "      <td>...</td>\n",
       "      <td>3.933333</td>\n",
       "      <td>3.933333</td>\n",
       "      <td>3.933333</td>\n",
       "      <td>3.933333</td>\n",
       "      <td>3.933333</td>\n",
       "      <td>3.933333</td>\n",
       "      <td>3.933333</td>\n",
       "      <td>3.933333</td>\n",
       "      <td>3.933333</td>\n",
       "      <td>3.933333</td>\n",
       "    </tr>\n",
       "    <tr>\n",
       "      <th>1</th>\n",
       "      <td>2.738733</td>\n",
       "      <td>3.000000</td>\n",
       "      <td>5.000000</td>\n",
       "      <td>4.402382</td>\n",
       "      <td>2.000000</td>\n",
       "      <td>3.000000</td>\n",
       "      <td>5.000000</td>\n",
       "      <td>5.000000</td>\n",
       "      <td>3.461146</td>\n",
       "      <td>5.000000</td>\n",
       "      <td>...</td>\n",
       "      <td>4.166667</td>\n",
       "      <td>4.166667</td>\n",
       "      <td>4.166667</td>\n",
       "      <td>4.166667</td>\n",
       "      <td>4.166667</td>\n",
       "      <td>4.166667</td>\n",
       "      <td>4.166667</td>\n",
       "      <td>4.166667</td>\n",
       "      <td>4.166667</td>\n",
       "      <td>4.166667</td>\n",
       "    </tr>\n",
       "    <tr>\n",
       "      <th>2</th>\n",
       "      <td>4.000000</td>\n",
       "      <td>5.000000</td>\n",
       "      <td>3.918627</td>\n",
       "      <td>5.000000</td>\n",
       "      <td>3.815417</td>\n",
       "      <td>1.000000</td>\n",
       "      <td>4.616258</td>\n",
       "      <td>5.000000</td>\n",
       "      <td>4.000000</td>\n",
       "      <td>4.543643</td>\n",
       "      <td>...</td>\n",
       "      <td>4.533333</td>\n",
       "      <td>4.533333</td>\n",
       "      <td>4.533333</td>\n",
       "      <td>4.533333</td>\n",
       "      <td>4.533333</td>\n",
       "      <td>4.533333</td>\n",
       "      <td>4.533333</td>\n",
       "      <td>4.533333</td>\n",
       "      <td>4.533333</td>\n",
       "      <td>4.533333</td>\n",
       "    </tr>\n",
       "    <tr>\n",
       "      <th>3</th>\n",
       "      <td>4.000000</td>\n",
       "      <td>3.896030</td>\n",
       "      <td>3.000000</td>\n",
       "      <td>5.000000</td>\n",
       "      <td>3.921901</td>\n",
       "      <td>4.409185</td>\n",
       "      <td>4.619848</td>\n",
       "      <td>1.000000</td>\n",
       "      <td>3.496586</td>\n",
       "      <td>5.000000</td>\n",
       "      <td>...</td>\n",
       "      <td>4.333333</td>\n",
       "      <td>4.333333</td>\n",
       "      <td>4.333333</td>\n",
       "      <td>4.333333</td>\n",
       "      <td>4.333333</td>\n",
       "      <td>4.333333</td>\n",
       "      <td>4.333333</td>\n",
       "      <td>4.333333</td>\n",
       "      <td>4.333333</td>\n",
       "      <td>4.333333</td>\n",
       "    </tr>\n",
       "    <tr>\n",
       "      <th>4</th>\n",
       "      <td>1.000000</td>\n",
       "      <td>3.886082</td>\n",
       "      <td>5.000000</td>\n",
       "      <td>4.434295</td>\n",
       "      <td>4.000000</td>\n",
       "      <td>4.347749</td>\n",
       "      <td>4.669703</td>\n",
       "      <td>4.437355</td>\n",
       "      <td>3.287407</td>\n",
       "      <td>5.000000</td>\n",
       "      <td>...</td>\n",
       "      <td>4.266667</td>\n",
       "      <td>4.266667</td>\n",
       "      <td>4.266667</td>\n",
       "      <td>4.266667</td>\n",
       "      <td>4.266667</td>\n",
       "      <td>4.266667</td>\n",
       "      <td>4.266667</td>\n",
       "      <td>4.266667</td>\n",
       "      <td>4.266667</td>\n",
       "      <td>4.266667</td>\n",
       "    </tr>\n",
       "  </tbody>\n",
       "</table>\n",
       "<p>5 rows × 100 columns</p>\n",
       "</div>"
      ]
     },
     "execution_count": 2,
     "metadata": {},
     "output_type": "execute_result"
    }
   ],
   "execution_count": 2
  },
  {
   "metadata": {},
   "cell_type": "markdown",
   "source": "convert dataframe to numpy matrix",
   "id": "9e008a053701c810"
  },
  {
   "metadata": {
    "ExecuteTime": {
     "end_time": "2025-05-26T00:17:39.303821Z",
     "start_time": "2025-05-26T00:17:39.298468Z"
    }
   },
   "cell_type": "code",
   "source": [
    "matrix = df_user_item.to_numpy()\n",
    "matrix"
   ],
   "id": "2f8abc319ccec464",
   "outputs": [
    {
     "data": {
      "text/plain": [
       "array([[2.77027174, 3.        , 3.95796556, ..., 3.93333333, 3.93333333,\n",
       "        3.93333333],\n",
       "       [2.73873318, 3.        , 5.        , ..., 4.16666667, 4.16666667,\n",
       "        4.16666667],\n",
       "       [4.        , 5.        , 3.91862689, ..., 4.53333333, 4.53333333,\n",
       "        4.53333333],\n",
       "       ...,\n",
       "       [2.78127436, 3.        , 3.93475525, ..., 3.93333333, 3.93333333,\n",
       "        3.93333333],\n",
       "       [4.        , 4.        , 5.        , ..., 3.76666667, 3.76666667,\n",
       "        3.76666667],\n",
       "       [1.        , 3.85808676, 3.99479862, ..., 3.5       , 3.5       ,\n",
       "        3.5       ]])"
      ]
     },
     "execution_count": 3,
     "metadata": {},
     "output_type": "execute_result"
    }
   ],
   "execution_count": 3
  },
  {
   "metadata": {},
   "cell_type": "markdown",
   "source": "# Rekomendasi",
   "id": "864a5fd07a73710a"
  },
  {
   "metadata": {
    "ExecuteTime": {
     "end_time": "2025-05-26T00:17:39.448813Z",
     "start_time": "2025-05-26T00:17:39.445813Z"
    }
   },
   "cell_type": "code",
   "source": [
    "n_items = 75\n",
    "n_users = 100"
   ],
   "id": "379627202025cc92",
   "outputs": [],
   "execution_count": 4
  },
  {
   "metadata": {},
   "cell_type": "markdown",
   "source": "## 1. Average",
   "id": "e8ad1164484ae899"
  },
  {
   "metadata": {},
   "cell_type": "markdown",
   "source": [
    "### Group Recommendation using Average Method\n",
    "\n",
    "The average method for group recommendations works by:\n",
    "1. Taking individual ratings/preferences from each group member\n",
    "2. Calculating the average rating for each item across all group members\n",
    "3. Recommending items with the highest average ratings"
   ],
   "id": "e09f65d4a2ccac1f"
  },
  {
   "metadata": {
    "ExecuteTime": {
     "end_time": "2025-05-26T00:17:39.919298Z",
     "start_time": "2025-05-26T00:17:39.916293Z"
    }
   },
   "cell_type": "code",
   "source": [
    "def recommend_group_average(matrix, group_members, n_recommendations=5):\n",
    "    # Get ratings for group members\n",
    "    group_ratings = matrix[group_members]\n",
    "\n",
    "    # Calculate average rating for each item\n",
    "    average_ratings = np.mean(group_ratings, axis=0)\n",
    "\n",
    "    # Get indices of top N items\n",
    "    top_n_indices = np.argsort(average_ratings)[::-1][:n_recommendations]\n",
    "\n",
    "    return top_n_indices, average_ratings[top_n_indices]"
   ],
   "id": "2835c6be8b9afa7c",
   "outputs": [],
   "execution_count": 5
  },
  {
   "metadata": {
    "ExecuteTime": {
     "end_time": "2025-05-26T00:17:40.147006Z",
     "start_time": "2025-05-26T00:17:40.142049Z"
    }
   },
   "cell_type": "code",
   "source": [
    "# Example usage\n",
    "group = [0, 1, 2]  # Example group with users 0,1,2\n",
    "recommended_items, scores = recommend_group_average(matrix, group)\n",
    "\n",
    "print(\"Recommended items (indices):\", recommended_items)\n",
    "print(\"Recommendation scores:\", scores)"
   ],
   "id": "6806ecaf855d329a",
   "outputs": [
    {
     "name": "stdout",
     "output_type": "stream",
     "text": [
      "Recommended items (indices): [ 7 40  6 66 24]\n",
      "Recommendation scores: [5.         5.         4.87208587 4.86421926 4.85514981]\n"
     ]
    }
   ],
   "execution_count": 6
  },
  {
   "metadata": {},
   "cell_type": "markdown",
   "source": "## 2. Least Misery",
   "id": "6cd29f6c0adc412"
  },
  {
   "metadata": {},
   "cell_type": "markdown",
   "source": [
    "### Group Recommendation using Least Misery Method\n",
    "\n",
    "The Least Misery strategy aims to minimize the disagreement within a group by:\n",
    "1. Taking individual ratings from each group member\n",
    "2. For each item, using the minimum rating across all group members\n",
    "3. Recommending items with the highest minimum ratings\n",
    "\n",
    "This ensures no group member strongly dislikes the recommended items."
   ],
   "id": "64a6ad2332d11918"
  },
  {
   "metadata": {
    "ExecuteTime": {
     "end_time": "2025-05-26T00:17:40.218259Z",
     "start_time": "2025-05-26T00:17:40.214757Z"
    }
   },
   "cell_type": "code",
   "source": [
    "def recommend_group_least_misery(matrix, group_members, n_recommendations=5):\n",
    "    # Get ratings for group members\n",
    "    group_ratings = matrix[group_members]\n",
    "\n",
    "    # Calculate minimum rating for each item\n",
    "    min_ratings = np.min(group_ratings, axis=0)\n",
    "\n",
    "    # Get indices of top N items\n",
    "    top_n_indices = np.argsort(min_ratings)[::-1][:n_recommendations]\n",
    "\n",
    "    return top_n_indices, min_ratings[top_n_indices]"
   ],
   "id": "b7e4ce2693c8bfc9",
   "outputs": [],
   "execution_count": 7
  },
  {
   "metadata": {
    "ExecuteTime": {
     "end_time": "2025-05-26T00:17:40.311305Z",
     "start_time": "2025-05-26T00:17:40.307293Z"
    }
   },
   "cell_type": "code",
   "source": [
    "# Example usage with the same group\n",
    "group = [0, 1, 2]  # Group with users 0,1,2\n",
    "recommended_items, scores = recommend_group_least_misery(matrix, group)\n",
    "\n",
    "print(\"Recommended items (indices):\", recommended_items)\n",
    "print(\"Recommendation scores:\", scores)"
   ],
   "id": "552084dddb9afc1b",
   "outputs": [
    {
     "name": "stdout",
     "output_type": "stream",
     "text": [
      "Recommended items (indices): [40  7 24 73  6]\n",
      "Recommendation scores: [5.         5.         4.76717747 4.74959335 4.6162576 ]\n"
     ]
    }
   ],
   "execution_count": 8
  },
  {
   "metadata": {},
   "cell_type": "markdown",
   "source": "## 3. Most Pleasure",
   "id": "33ad1103e8b900fb"
  },
  {
   "metadata": {},
   "cell_type": "markdown",
   "source": [
    "### Group Recommendation using Most Pleasure Method\n",
    "\n",
    "The Most Pleasure strategy focuses on maximizing satisfaction by:\n",
    "1. Taking individual ratings from each group member\n",
    "2. For each item, using the maximum rating across all group members\n",
    "3. Recommending items with the highest maximum ratings\n",
    "\n",
    "This approach emphasizes the most positive experiences of group members."
   ],
   "id": "87bf077cb63b3696"
  },
  {
   "metadata": {
    "ExecuteTime": {
     "end_time": "2025-05-26T00:17:40.446088Z",
     "start_time": "2025-05-26T00:17:40.441665Z"
    }
   },
   "cell_type": "code",
   "source": [
    "def recommend_group_most_pleasure(matrix, group_members, n_recommendations=5):\n",
    "    # Get ratings for group members\n",
    "    group_ratings = matrix[group_members]\n",
    "\n",
    "    # Calculate maximum rating for each item\n",
    "    max_ratings = np.max(group_ratings, axis=0)\n",
    "\n",
    "    # Get indices of top N items\n",
    "    top_n_indices = np.argsort(max_ratings)[::-1][:n_recommendations]\n",
    "\n",
    "    return top_n_indices, max_ratings[top_n_indices]"
   ],
   "id": "96e2886de2594dc1",
   "outputs": [],
   "execution_count": 9
  },
  {
   "metadata": {
    "ExecuteTime": {
     "end_time": "2025-05-26T00:17:40.517575Z",
     "start_time": "2025-05-26T00:17:40.513263Z"
    }
   },
   "cell_type": "code",
   "source": [
    "# Example usage with the same group\n",
    "group = [0, 1, 2]  # Group with users 0,1,2\n",
    "recommended_items, scores = recommend_group_most_pleasure(matrix, group)\n",
    "\n",
    "print(\"Recommended items (indices):\", recommended_items)\n",
    "print(\"Recommendation scores:\", scores)\n"
   ],
   "id": "8013874218139d3",
   "outputs": [
    {
     "name": "stdout",
     "output_type": "stream",
     "text": [
      "Recommended items (indices): [49 69 40 43 46]\n",
      "Recommendation scores: [5. 5. 5. 5. 5.]\n"
     ]
    }
   ],
   "execution_count": 10
  },
  {
   "metadata": {},
   "cell_type": "markdown",
   "source": "## 4. Borda",
   "id": "5d9325ac9ba6b3e2"
  },
  {
   "metadata": {},
   "cell_type": "markdown",
   "source": [
    "### Group Recommendation using Borda Method\n",
    "\n",
    "The Borda count method works by:\n",
    "1. Converting each member's ratings into rankings\n",
    "2. Assigning points based on rankings (N-rank points, where N is number of items)\n",
    "3. Summing up points across all members\n",
    "4. Recommending items with highest total points"
   ],
   "id": "9b59e95a91f9f623"
  },
  {
   "metadata": {
    "ExecuteTime": {
     "end_time": "2025-05-26T00:17:40.615171Z",
     "start_time": "2025-05-26T00:17:40.612291Z"
    }
   },
   "cell_type": "code",
   "source": [
    "def recommend_group_borda(matrix, group_members, n_recommendations=5):\n",
    "    # Get ratings for group members\n",
    "    group_ratings = matrix[group_members]\n",
    "\n",
    "    # Convert ratings to rankings for each user\n",
    "    n_items = matrix.shape[1]\n",
    "    borda_scores = np.zeros(n_items)\n",
    "\n",
    "    for user_ratings in group_ratings:\n",
    "        # Get ranking of items (handle ties with 'min' method)\n",
    "        ranking = n_items - rankdata(user_ratings, method='min')\n",
    "        # Add Borda points\n",
    "        borda_scores += ranking\n",
    "\n",
    "    # Get indices of top N items\n",
    "    top_n_indices = np.argsort(borda_scores)[::-1][:n_recommendations]\n",
    "\n",
    "    return top_n_indices, borda_scores[top_n_indices]"
   ],
   "id": "55fced93fd714185",
   "outputs": [],
   "execution_count": 11
  },
  {
   "metadata": {
    "ExecuteTime": {
     "end_time": "2025-05-26T00:17:40.689065Z",
     "start_time": "2025-05-26T00:17:40.684190Z"
    }
   },
   "cell_type": "code",
   "source": [
    "# Example usage with the same group\n",
    "group = [0, 1, 2]  # Group with users 0,1,2\n",
    "recommended_items, scores = recommend_group_borda(matrix, group)\n",
    "\n",
    "print(\"Recommended items (indices):\", recommended_items)\n",
    "print(\"Recommendation scores:\", scores)"
   ],
   "id": "fd02865ecf999cc0",
   "outputs": [
    {
     "name": "stdout",
     "output_type": "stream",
     "text": [
      "Recommended items (indices): [10 11  0 56  4]\n",
      "Recommendation scores: [280. 274. 272. 270. 267.]\n"
     ]
    }
   ],
   "execution_count": 12
  },
  {
   "metadata": {},
   "cell_type": "markdown",
   "source": "# Testing",
   "id": "99adb08201e9e1a8"
  },
  {
   "metadata": {
    "ExecuteTime": {
     "end_time": "2025-05-26T00:17:40.792583Z",
     "start_time": "2025-05-26T00:17:40.783585Z"
    }
   },
   "cell_type": "code",
   "source": [
    "df_matrix = pd.DataFrame(matrix)\n",
    "df_matrix.head()\n"
   ],
   "id": "d14349fe4f8928ab",
   "outputs": [
    {
     "data": {
      "text/plain": [
       "         0         1         2         3         4         5         6   \\\n",
       "0  2.770272  3.000000  3.957966  4.424952  3.856190  4.324151  5.000000   \n",
       "1  2.738733  3.000000  5.000000  4.402382  2.000000  3.000000  5.000000   \n",
       "2  4.000000  5.000000  3.918627  5.000000  3.815417  1.000000  4.616258   \n",
       "3  4.000000  3.896030  3.000000  5.000000  3.921901  4.409185  4.619848   \n",
       "4  1.000000  3.886082  5.000000  4.434295  4.000000  4.347749  4.669703   \n",
       "\n",
       "         7         8         9   ...        90        91        92        93  \\\n",
       "0  5.000000  3.421740  4.468440  ...  3.933333  3.933333  3.933333  3.933333   \n",
       "1  5.000000  3.461146  5.000000  ...  4.166667  4.166667  4.166667  4.166667   \n",
       "2  5.000000  4.000000  4.543643  ...  4.533333  4.533333  4.533333  4.533333   \n",
       "3  1.000000  3.496586  5.000000  ...  4.333333  4.333333  4.333333  4.333333   \n",
       "4  4.437355  3.287407  5.000000  ...  4.266667  4.266667  4.266667  4.266667   \n",
       "\n",
       "         94        95        96        97        98        99  \n",
       "0  3.933333  3.933333  3.933333  3.933333  3.933333  3.933333  \n",
       "1  4.166667  4.166667  4.166667  4.166667  4.166667  4.166667  \n",
       "2  4.533333  4.533333  4.533333  4.533333  4.533333  4.533333  \n",
       "3  4.333333  4.333333  4.333333  4.333333  4.333333  4.333333  \n",
       "4  4.266667  4.266667  4.266667  4.266667  4.266667  4.266667  \n",
       "\n",
       "[5 rows x 100 columns]"
      ],
      "text/html": [
       "<div>\n",
       "<style scoped>\n",
       "    .dataframe tbody tr th:only-of-type {\n",
       "        vertical-align: middle;\n",
       "    }\n",
       "\n",
       "    .dataframe tbody tr th {\n",
       "        vertical-align: top;\n",
       "    }\n",
       "\n",
       "    .dataframe thead th {\n",
       "        text-align: right;\n",
       "    }\n",
       "</style>\n",
       "<table border=\"1\" class=\"dataframe\">\n",
       "  <thead>\n",
       "    <tr style=\"text-align: right;\">\n",
       "      <th></th>\n",
       "      <th>0</th>\n",
       "      <th>1</th>\n",
       "      <th>2</th>\n",
       "      <th>3</th>\n",
       "      <th>4</th>\n",
       "      <th>5</th>\n",
       "      <th>6</th>\n",
       "      <th>7</th>\n",
       "      <th>8</th>\n",
       "      <th>9</th>\n",
       "      <th>...</th>\n",
       "      <th>90</th>\n",
       "      <th>91</th>\n",
       "      <th>92</th>\n",
       "      <th>93</th>\n",
       "      <th>94</th>\n",
       "      <th>95</th>\n",
       "      <th>96</th>\n",
       "      <th>97</th>\n",
       "      <th>98</th>\n",
       "      <th>99</th>\n",
       "    </tr>\n",
       "  </thead>\n",
       "  <tbody>\n",
       "    <tr>\n",
       "      <th>0</th>\n",
       "      <td>2.770272</td>\n",
       "      <td>3.000000</td>\n",
       "      <td>3.957966</td>\n",
       "      <td>4.424952</td>\n",
       "      <td>3.856190</td>\n",
       "      <td>4.324151</td>\n",
       "      <td>5.000000</td>\n",
       "      <td>5.000000</td>\n",
       "      <td>3.421740</td>\n",
       "      <td>4.468440</td>\n",
       "      <td>...</td>\n",
       "      <td>3.933333</td>\n",
       "      <td>3.933333</td>\n",
       "      <td>3.933333</td>\n",
       "      <td>3.933333</td>\n",
       "      <td>3.933333</td>\n",
       "      <td>3.933333</td>\n",
       "      <td>3.933333</td>\n",
       "      <td>3.933333</td>\n",
       "      <td>3.933333</td>\n",
       "      <td>3.933333</td>\n",
       "    </tr>\n",
       "    <tr>\n",
       "      <th>1</th>\n",
       "      <td>2.738733</td>\n",
       "      <td>3.000000</td>\n",
       "      <td>5.000000</td>\n",
       "      <td>4.402382</td>\n",
       "      <td>2.000000</td>\n",
       "      <td>3.000000</td>\n",
       "      <td>5.000000</td>\n",
       "      <td>5.000000</td>\n",
       "      <td>3.461146</td>\n",
       "      <td>5.000000</td>\n",
       "      <td>...</td>\n",
       "      <td>4.166667</td>\n",
       "      <td>4.166667</td>\n",
       "      <td>4.166667</td>\n",
       "      <td>4.166667</td>\n",
       "      <td>4.166667</td>\n",
       "      <td>4.166667</td>\n",
       "      <td>4.166667</td>\n",
       "      <td>4.166667</td>\n",
       "      <td>4.166667</td>\n",
       "      <td>4.166667</td>\n",
       "    </tr>\n",
       "    <tr>\n",
       "      <th>2</th>\n",
       "      <td>4.000000</td>\n",
       "      <td>5.000000</td>\n",
       "      <td>3.918627</td>\n",
       "      <td>5.000000</td>\n",
       "      <td>3.815417</td>\n",
       "      <td>1.000000</td>\n",
       "      <td>4.616258</td>\n",
       "      <td>5.000000</td>\n",
       "      <td>4.000000</td>\n",
       "      <td>4.543643</td>\n",
       "      <td>...</td>\n",
       "      <td>4.533333</td>\n",
       "      <td>4.533333</td>\n",
       "      <td>4.533333</td>\n",
       "      <td>4.533333</td>\n",
       "      <td>4.533333</td>\n",
       "      <td>4.533333</td>\n",
       "      <td>4.533333</td>\n",
       "      <td>4.533333</td>\n",
       "      <td>4.533333</td>\n",
       "      <td>4.533333</td>\n",
       "    </tr>\n",
       "    <tr>\n",
       "      <th>3</th>\n",
       "      <td>4.000000</td>\n",
       "      <td>3.896030</td>\n",
       "      <td>3.000000</td>\n",
       "      <td>5.000000</td>\n",
       "      <td>3.921901</td>\n",
       "      <td>4.409185</td>\n",
       "      <td>4.619848</td>\n",
       "      <td>1.000000</td>\n",
       "      <td>3.496586</td>\n",
       "      <td>5.000000</td>\n",
       "      <td>...</td>\n",
       "      <td>4.333333</td>\n",
       "      <td>4.333333</td>\n",
       "      <td>4.333333</td>\n",
       "      <td>4.333333</td>\n",
       "      <td>4.333333</td>\n",
       "      <td>4.333333</td>\n",
       "      <td>4.333333</td>\n",
       "      <td>4.333333</td>\n",
       "      <td>4.333333</td>\n",
       "      <td>4.333333</td>\n",
       "    </tr>\n",
       "    <tr>\n",
       "      <th>4</th>\n",
       "      <td>1.000000</td>\n",
       "      <td>3.886082</td>\n",
       "      <td>5.000000</td>\n",
       "      <td>4.434295</td>\n",
       "      <td>4.000000</td>\n",
       "      <td>4.347749</td>\n",
       "      <td>4.669703</td>\n",
       "      <td>4.437355</td>\n",
       "      <td>3.287407</td>\n",
       "      <td>5.000000</td>\n",
       "      <td>...</td>\n",
       "      <td>4.266667</td>\n",
       "      <td>4.266667</td>\n",
       "      <td>4.266667</td>\n",
       "      <td>4.266667</td>\n",
       "      <td>4.266667</td>\n",
       "      <td>4.266667</td>\n",
       "      <td>4.266667</td>\n",
       "      <td>4.266667</td>\n",
       "      <td>4.266667</td>\n",
       "      <td>4.266667</td>\n",
       "    </tr>\n",
       "  </tbody>\n",
       "</table>\n",
       "<p>5 rows × 100 columns</p>\n",
       "</div>"
      ]
     },
     "execution_count": 13,
     "metadata": {},
     "output_type": "execute_result"
    }
   ],
   "execution_count": 13
  },
  {
   "metadata": {
    "ExecuteTime": {
     "end_time": "2025-05-26T00:17:40.948042Z",
     "start_time": "2025-05-26T00:17:40.944041Z"
    }
   },
   "cell_type": "code",
   "source": "df_matrix.replace(0, np.nan, inplace=True)\n",
   "id": "9de6b73d0ed80a21",
   "outputs": [],
   "execution_count": 14
  },
  {
   "metadata": {
    "ExecuteTime": {
     "end_time": "2025-05-26T00:17:41.234462Z",
     "start_time": "2025-05-26T00:17:41.225454Z"
    }
   },
   "cell_type": "code",
   "source": [
    "def precision_at_n(recommended, relevant, n):\n",
    "    recommended_n = recommended[:n]\n",
    "    hits = len(set(recommended_n) & set(relevant))\n",
    "    return hits / n if n > 0 else 0\n",
    "\n",
    "\n",
    "def recall_at_n(recommended, relevant, n):\n",
    "    recommended_n = recommended[:n]\n",
    "    hits = len(set(recommended_n) & set(relevant))\n",
    "    return hits / len(relevant) if len(relevant) > 0 else 0\n",
    "\n",
    "\n",
    "def dcg_at_n(recommended, relevant_scores, n):\n",
    "    dcg = 0.0\n",
    "    for i, item in enumerate(recommended[:n]):\n",
    "        rel = relevant_scores.get(item, 0)\n",
    "        dcg += (2 ** rel - 1) / np.log2(i + 2)\n",
    "    return dcg\n",
    "\n",
    "\n",
    "def idcg_at_n(relevant_scores, n):\n",
    "    sorted_rels = sorted(relevant_scores.values(), reverse=True)[:n]\n",
    "    idcg = 0.0\n",
    "    for i, rel in enumerate(sorted_rels):\n",
    "        idcg += (2 ** rel - 1) / np.log2(i + 2)\n",
    "    return idcg\n",
    "\n",
    "\n",
    "def ndcg_at_n(recommended, relevant_scores, n):\n",
    "    dcg = dcg_at_n(recommended, relevant_scores, n)\n",
    "    idcg = idcg_at_n(relevant_scores, n)\n",
    "    return dcg / idcg if idcg > 0 else 0\n",
    "\n",
    "\n",
    "def borda_count_aggregation(ratings_group):\n",
    "    # ratings_group: DataFrame with items as rows, users as columns\n",
    "    # For each user, rank items (higher rating = better rank)\n",
    "    # Assign points inversely proportional to rank, sum across users\n",
    "    n_items = ratings_group.shape[0]\n",
    "    scores = pd.Series(0, index=ratings_group.index)\n",
    "    for user in ratings_group.columns:\n",
    "        user_ratings = ratings_group[user]\n",
    "        # Rank items: highest rating rank 1\n",
    "        ranked = user_ratings.rank(ascending=False, method='min')\n",
    "        # Borda points: n_items - rank + 1\n",
    "        points = n_items - ranked + 1\n",
    "        points = points.fillna(0)\n",
    "        scores += points\n",
    "    return scores\n",
    "\n",
    "\n",
    "def aggregate_group_ratings(ratings_matrix, group_users, method):\n",
    "    # Extract ratings for group users\n",
    "    ratings_group = ratings_matrix.iloc[:, group_users]\n",
    "\n",
    "    if method == 'average':\n",
    "        group_scores = ratings_group.mean(axis=1, skipna=True)\n",
    "    elif method == 'least_misery':\n",
    "        group_scores = ratings_group.min(axis=1, skipna=True)\n",
    "    elif method == 'most_pleasure':\n",
    "        group_scores = ratings_group.max(axis=1, skipna=True)\n",
    "    elif method == 'borda':\n",
    "        group_scores = borda_count_aggregation(ratings_group)\n",
    "    else:\n",
    "        raise ValueError(f\"Unknown aggregation method: {method}\")\n",
    "\n",
    "    # Replace NaN with a very low score to avoid recommending unrated items\n",
    "    group_scores = group_scores.fillna(-np.inf)\n",
    "    return group_scores\n",
    "\n",
    "def evaluate_methods(ratings_matrix, groups, top_n=10):\n",
    "    methods = ['average', 'least_misery', 'most_pleasure', 'borda']\n",
    "    results = {m: {'precision': [], 'recall': [], 'ndcg': [], 'satisfaction': []} for m in methods}\n",
    "\n",
    "    for group in groups:\n",
    "        # Define relevant items for the group as items rated by all group members with rating >= threshold (e.g., 3)\n",
    "        # Here, we consider relevant items as those with average rating >= 3 by group members\n",
    "        ratings_group = ratings_matrix.iloc[:, group]\n",
    "        avg_ratings = ratings_group.mean(axis=1, skipna=True)\n",
    "        relevant_items = avg_ratings[avg_ratings >= 5].index.tolist()\n",
    "\n",
    "        # For satisfaction score, we will average the ratings of recommended items by group members\n",
    "\n",
    "        for method in methods:\n",
    "            group_scores = aggregate_group_ratings(ratings_matrix, group, method)\n",
    "            recommended_items = group_scores.sort_values(ascending=False).index.tolist()\n",
    "\n",
    "            # Compute metrics\n",
    "            prec = precision_at_n(recommended_items, relevant_items, top_n)\n",
    "            rec = recall_at_n(recommended_items, relevant_items, top_n)\n",
    "\n",
    "            # Prepare relevance scores dict for NDCG (use average ratings as relevance)\n",
    "            relevant_scores = avg_ratings.to_dict()\n",
    "            ndcg = ndcg_at_n(recommended_items, relevant_scores, top_n)\n",
    "\n",
    "            # Group satisfaction: average rating of recommended items by group members\n",
    "            recommended_top = recommended_items[:top_n]\n",
    "            # Extract ratings for recommended items and group users\n",
    "            ratings_recommended = ratings_group.loc[recommended_top]\n",
    "            satisfaction = ratings_recommended.mean(axis=1, skipna=True).mean()\n",
    "\n",
    "            results[method]['precision'].append(prec)\n",
    "            results[method]['recall'].append(rec)\n",
    "            results[method]['ndcg'].append(ndcg)\n",
    "            results[method]['satisfaction'].append(satisfaction)\n",
    "\n",
    "    # Aggregate results by averaging over groups\n",
    "    summary = {}\n",
    "    for method in methods:\n",
    "        summary[method] = {\n",
    "            'Precision@N': np.mean(results[method]['precision']),\n",
    "            'Recall@N': np.mean(results[method]['recall']),\n",
    "            'NDCG@N': np.mean(results[method]['ndcg']),\n",
    "            'Group Satisfaction': np.mean(results[method]['satisfaction'])\n",
    "        }\n",
    "    return summary"
   ],
   "id": "4c56217bfd78f44c",
   "outputs": [],
   "execution_count": 15
  },
  {
   "metadata": {
    "ExecuteTime": {
     "end_time": "2025-05-26T00:17:41.495688Z",
     "start_time": "2025-05-26T00:17:41.478688Z"
    }
   },
   "cell_type": "code",
   "source": [
    "groups = [[1, 2, 3, 4, 5]]\n",
    "summary_results = evaluate_methods(df_matrix, groups, top_n=5)\n",
    "print(summary_results)"
   ],
   "id": "4fe2732e63e31f44",
   "outputs": [
    {
     "name": "stdout",
     "output_type": "stream",
     "text": [
      "{'average': {'Precision@N': 0.0, 'Recall@N': 0.0, 'NDCG@N': 1.0, 'Group Satisfaction': 4.562458069433174}, 'least_misery': {'Precision@N': 0.0, 'Recall@N': 0.0, 'NDCG@N': 0.8500627384300327, 'Group Satisfaction': 4.359708337738592}, 'most_pleasure': {'Precision@N': 0.0, 'Recall@N': 0.0, 'NDCG@N': 0.7214602395463532, 'Group Satisfaction': 4.145588943251299}, 'borda': {'Precision@N': 0.0, 'Recall@N': 0.0, 'NDCG@N': 0.9352816847788071, 'Group Satisfaction': 4.491504548425286}}\n"
     ]
    }
   ],
   "execution_count": 16
  },
  {
   "metadata": {},
   "cell_type": "markdown",
   "source": "Jaccard similarity",
   "id": "586c414484b60ea8"
  },
  {
   "metadata": {
    "ExecuteTime": {
     "end_time": "2025-05-26T00:17:41.593621Z",
     "start_time": "2025-05-26T00:17:41.586476Z"
    }
   },
   "cell_type": "code",
   "source": [
    "methods = ['average', 'least_misery', 'most_pleasure', 'borda']\n",
    "results = {m: [] for m in methods}\n",
    "top_n = 10\n",
    "\n",
    "for group in groups:\n",
    "    # Define relevant items for the group as items rated by all group members with rating >= threshold (e.g., 3)\n",
    "    # Here, we consider relevant items as those with average rating >= 3 by group members\n",
    "    ratings_group = df_matrix.iloc[:, group]\n",
    "    avg_ratings = ratings_group.mean(axis=1, skipna=True)\n",
    "    relevant_items = avg_ratings[avg_ratings >= 3].index.tolist()\n",
    "\n",
    "    # For satisfaction score, we will average the ratings of recommended items by group members\n",
    "\n",
    "    for method in methods:\n",
    "        group_scores = aggregate_group_ratings(df_matrix, group, method)\n",
    "        recommended_items = group_scores.sort_values(ascending=False).index.tolist()\n",
    "\n",
    "        # Compute metrics\n",
    "        prec = precision_at_n(recommended_items, relevant_items, top_n)\n",
    "        rec = recall_at_n(recommended_items, relevant_items, top_n)\n",
    "\n",
    "        # Prepare relevance scores dict for NDCG (use average ratings as relevance)\n",
    "        relevant_scores = avg_ratings.to_dict()\n",
    "        ndcg = ndcg_at_n(recommended_items, relevant_scores, top_n)\n",
    "\n",
    "        # Group satisfaction: average rating of recommended items by group members\n",
    "        recommended_top = recommended_items[:top_n]\n",
    "        results[method].append(recommended_top)\n",
    "\n",
    "for method in methods:\n",
    "    results[method] = results[method][0]\n",
    "\n",
    "print(results)"
   ],
   "id": "82793a4bf73323a0",
   "outputs": [
    {
     "name": "stdout",
     "output_type": "stream",
     "text": [
      "{'average': [8, 20, 53, 7, 18, 60, 63, 65, 56, 39], 'least_misery': [9, 39, 38, 18, 56, 8, 45, 63, 20, 33], 'most_pleasure': [37, 29, 71, 70, 68, 35, 1, 38, 39, 40], 'borda': [39, 18, 20, 71, 8, 53, 56, 22, 38, 15]}\n"
     ]
    }
   ],
   "execution_count": 17
  },
  {
   "metadata": {
    "ExecuteTime": {
     "end_time": "2025-05-26T00:17:41.693089Z",
     "start_time": "2025-05-26T00:17:41.691220Z"
    }
   },
   "cell_type": "code",
   "source": "",
   "id": "23584f180d3b74b9",
   "outputs": [],
   "execution_count": null
  }
 ],
 "metadata": {
  "kernelspec": {
   "display_name": "Python 3",
   "language": "python",
   "name": "python3"
  },
  "language_info": {
   "codemirror_mode": {
    "name": "ipython",
    "version": 2
   },
   "file_extension": ".py",
   "mimetype": "text/x-python",
   "name": "python",
   "nbconvert_exporter": "python",
   "pygments_lexer": "ipython2",
   "version": "2.7.6"
  }
 },
 "nbformat": 4,
 "nbformat_minor": 5
}
