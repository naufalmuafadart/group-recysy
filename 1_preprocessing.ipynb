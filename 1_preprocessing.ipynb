{
 "cells": [
  {
   "metadata": {},
   "cell_type": "markdown",
   "source": "# Import library",
   "id": "d7340b2b76d8431a"
  },
  {
   "metadata": {
    "ExecuteTime": {
     "end_time": "2025-05-25T06:52:04.559281Z",
     "start_time": "2025-05-25T06:52:04.050581Z"
    }
   },
   "cell_type": "code",
   "source": [
    "import pandas as pd\n",
    "import numpy as np\n",
    "from sklearn.metrics.pairwise import cosine_similarity\n",
    "from sklearn.metrics import mean_squared_error, mean_absolute_error"
   ],
   "id": "initial_id",
   "outputs": [],
   "execution_count": 1
  },
  {
   "metadata": {},
   "cell_type": "markdown",
   "source": "# Read dataset",
   "id": "d34375c20abda610"
  },
  {
   "metadata": {},
   "cell_type": "markdown",
   "source": "Dataset obtained https://www.kaggle.com/datasets/utarasetyaw/data-set-destination-in-bali/",
   "id": "4f4ad9feb5201686"
  },
  {
   "metadata": {
    "ExecuteTime": {
     "end_time": "2025-05-25T06:52:04.675062Z",
     "start_time": "2025-05-25T06:52:04.665577Z"
    }
   },
   "cell_type": "code",
   "source": [
    "df_combination = pd.read_csv('./dataset/combination.csv')\n",
    "df_combination.head()"
   ],
   "id": "ad422bea388db57e",
   "outputs": [
    {
     "data": {
      "text/plain": [
       "                Place 1                   Place 2   \\\n",
       "0       Pantai Pasih Uug  Pantai Angel's Billabong   \n",
       "1         Pantai Diamond               Pantai Atuh   \n",
       "2         Tanjung Benoa           Pantai Waterblow   \n",
       "3  Tari Barong dan Keris                Sari Merta   \n",
       "4  Tari Barong dan Keris                Sari Merta   \n",
       "\n",
       "                        Place 3             Place 4           Place 5  \n",
       "0              Pantai Kelingking  Pantai Crystal Bay              NaN  \n",
       "1               Bukit Teletubies                 NaN              NaN  \n",
       "2                   Pura Uluwatu      Pantai Pandawa  Pantai Jimbaran  \n",
       "3               Pura Tirta Empul     Pantai Jimbaran              NaN  \n",
       "4  Objek Wisata Desa Panglipuran     Pantai Jimbaran              NaN  "
      ],
      "text/html": [
       "<div>\n",
       "<style scoped>\n",
       "    .dataframe tbody tr th:only-of-type {\n",
       "        vertical-align: middle;\n",
       "    }\n",
       "\n",
       "    .dataframe tbody tr th {\n",
       "        vertical-align: top;\n",
       "    }\n",
       "\n",
       "    .dataframe thead th {\n",
       "        text-align: right;\n",
       "    }\n",
       "</style>\n",
       "<table border=\"1\" class=\"dataframe\">\n",
       "  <thead>\n",
       "    <tr style=\"text-align: right;\">\n",
       "      <th></th>\n",
       "      <th>Place 1</th>\n",
       "      <th>Place 2</th>\n",
       "      <th>Place 3</th>\n",
       "      <th>Place 4</th>\n",
       "      <th>Place 5</th>\n",
       "    </tr>\n",
       "  </thead>\n",
       "  <tbody>\n",
       "    <tr>\n",
       "      <th>0</th>\n",
       "      <td>Pantai Pasih Uug</td>\n",
       "      <td>Pantai Angel's Billabong</td>\n",
       "      <td>Pantai Kelingking</td>\n",
       "      <td>Pantai Crystal Bay</td>\n",
       "      <td>NaN</td>\n",
       "    </tr>\n",
       "    <tr>\n",
       "      <th>1</th>\n",
       "      <td>Pantai Diamond</td>\n",
       "      <td>Pantai Atuh</td>\n",
       "      <td>Bukit Teletubies</td>\n",
       "      <td>NaN</td>\n",
       "      <td>NaN</td>\n",
       "    </tr>\n",
       "    <tr>\n",
       "      <th>2</th>\n",
       "      <td>Tanjung Benoa</td>\n",
       "      <td>Pantai Waterblow</td>\n",
       "      <td>Pura Uluwatu</td>\n",
       "      <td>Pantai Pandawa</td>\n",
       "      <td>Pantai Jimbaran</td>\n",
       "    </tr>\n",
       "    <tr>\n",
       "      <th>3</th>\n",
       "      <td>Tari Barong dan Keris</td>\n",
       "      <td>Sari Merta</td>\n",
       "      <td>Pura Tirta Empul</td>\n",
       "      <td>Pantai Jimbaran</td>\n",
       "      <td>NaN</td>\n",
       "    </tr>\n",
       "    <tr>\n",
       "      <th>4</th>\n",
       "      <td>Tari Barong dan Keris</td>\n",
       "      <td>Sari Merta</td>\n",
       "      <td>Objek Wisata Desa Panglipuran</td>\n",
       "      <td>Pantai Jimbaran</td>\n",
       "      <td>NaN</td>\n",
       "    </tr>\n",
       "  </tbody>\n",
       "</table>\n",
       "</div>"
      ]
     },
     "execution_count": 2,
     "metadata": {},
     "output_type": "execute_result"
    }
   ],
   "execution_count": 2
  },
  {
   "metadata": {},
   "cell_type": "markdown",
   "source": "## Dataset rating",
   "id": "694904c2d636b1e9"
  },
  {
   "metadata": {
    "ExecuteTime": {
     "end_time": "2025-05-25T06:52:04.714883Z",
     "start_time": "2025-05-25T06:52:04.707608Z"
    }
   },
   "cell_type": "code",
   "source": [
    "df_rating = pd.read_csv('./dataset/rating.csv')\n",
    "df_rating.head()"
   ],
   "id": "fb5bb11e4c9b2f49",
   "outputs": [
    {
     "data": {
      "text/plain": [
       "   User_Id  Place_Id            Nama Tempat  Place_Rating\n",
       "0        1         2   Agung Bali Oleh-Oleh             3\n",
       "1        1         7       Aloha Ubud Swing             5\n",
       "2        1         8         Bali Bird Park             5\n",
       "3        1        12      Big Garden Corner             2\n",
       "4        1        13  Wanagiri Hidden Hills             5"
      ],
      "text/html": [
       "<div>\n",
       "<style scoped>\n",
       "    .dataframe tbody tr th:only-of-type {\n",
       "        vertical-align: middle;\n",
       "    }\n",
       "\n",
       "    .dataframe tbody tr th {\n",
       "        vertical-align: top;\n",
       "    }\n",
       "\n",
       "    .dataframe thead th {\n",
       "        text-align: right;\n",
       "    }\n",
       "</style>\n",
       "<table border=\"1\" class=\"dataframe\">\n",
       "  <thead>\n",
       "    <tr style=\"text-align: right;\">\n",
       "      <th></th>\n",
       "      <th>User_Id</th>\n",
       "      <th>Place_Id</th>\n",
       "      <th>Nama Tempat</th>\n",
       "      <th>Place_Rating</th>\n",
       "    </tr>\n",
       "  </thead>\n",
       "  <tbody>\n",
       "    <tr>\n",
       "      <th>0</th>\n",
       "      <td>1</td>\n",
       "      <td>2</td>\n",
       "      <td>Agung Bali Oleh-Oleh</td>\n",
       "      <td>3</td>\n",
       "    </tr>\n",
       "    <tr>\n",
       "      <th>1</th>\n",
       "      <td>1</td>\n",
       "      <td>7</td>\n",
       "      <td>Aloha Ubud Swing</td>\n",
       "      <td>5</td>\n",
       "    </tr>\n",
       "    <tr>\n",
       "      <th>2</th>\n",
       "      <td>1</td>\n",
       "      <td>8</td>\n",
       "      <td>Bali Bird Park</td>\n",
       "      <td>5</td>\n",
       "    </tr>\n",
       "    <tr>\n",
       "      <th>3</th>\n",
       "      <td>1</td>\n",
       "      <td>12</td>\n",
       "      <td>Big Garden Corner</td>\n",
       "      <td>2</td>\n",
       "    </tr>\n",
       "    <tr>\n",
       "      <th>4</th>\n",
       "      <td>1</td>\n",
       "      <td>13</td>\n",
       "      <td>Wanagiri Hidden Hills</td>\n",
       "      <td>5</td>\n",
       "    </tr>\n",
       "  </tbody>\n",
       "</table>\n",
       "</div>"
      ]
     },
     "execution_count": 3,
     "metadata": {},
     "output_type": "execute_result"
    }
   ],
   "execution_count": 3
  },
  {
   "metadata": {
    "ExecuteTime": {
     "end_time": "2025-05-25T06:52:04.796200Z",
     "start_time": "2025-05-25T06:52:04.791726Z"
    }
   },
   "cell_type": "code",
   "source": "df_rating.dtypes",
   "id": "3222b868edfcda40",
   "outputs": [
    {
     "data": {
      "text/plain": [
       "User_Id          int64\n",
       "Place_Id         int64\n",
       "Nama Tempat     object\n",
       "Place_Rating     int64\n",
       "dtype: object"
      ]
     },
     "execution_count": 4,
     "metadata": {},
     "output_type": "execute_result"
    }
   ],
   "execution_count": 4
  },
  {
   "metadata": {},
   "cell_type": "markdown",
   "source": "Get user count",
   "id": "bce89b343f650373"
  },
  {
   "metadata": {
    "ExecuteTime": {
     "end_time": "2025-05-25T06:52:04.900461Z",
     "start_time": "2025-05-25T06:52:04.897447Z"
    }
   },
   "cell_type": "code",
   "source": [
    "user_count = df_rating['User_Id'].nunique()\n",
    "user_count"
   ],
   "id": "32a21bf3621f2204",
   "outputs": [
    {
     "data": {
      "text/plain": [
       "100"
      ]
     },
     "execution_count": 5,
     "metadata": {},
     "output_type": "execute_result"
    }
   ],
   "execution_count": 5
  },
  {
   "metadata": {
    "ExecuteTime": {
     "end_time": "2025-05-25T06:52:05.004851Z",
     "start_time": "2025-05-25T06:52:05.001634Z"
    }
   },
   "cell_type": "code",
   "source": "df_rating['User_Id'].unique()",
   "id": "81dd9904f48af1dd",
   "outputs": [
    {
     "data": {
      "text/plain": [
       "array([  1,   2,   3,   4,   5,   6,   7,   8,   9,  10,  11,  12,  13,\n",
       "        14,  15,  16,  17,  18,  19,  20,  21,  22,  23,  24,  25,  26,\n",
       "        27,  28,  29,  30,  31,  32,  33,  34,  35,  36,  37,  38,  39,\n",
       "        40,  41,  42,  43,  44,  45,  46,  47,  48,  49,  50,  51,  52,\n",
       "        53,  54,  55,  56,  57,  58,  59,  60,  61,  62,  63,  64,  65,\n",
       "        66,  67,  68,  69,  70,  71,  72,  73,  74,  75,  76,  77,  78,\n",
       "        79,  80,  81,  82,  83,  84,  85,  86,  87,  88,  89,  90,  91,\n",
       "        92,  93,  94,  95,  96,  97,  98,  99, 100], dtype=int64)"
      ]
     },
     "execution_count": 6,
     "metadata": {},
     "output_type": "execute_result"
    }
   ],
   "execution_count": 6
  },
  {
   "metadata": {},
   "cell_type": "markdown",
   "source": "## Dataset tourism",
   "id": "31b5a781427c58b9"
  },
  {
   "metadata": {
    "ExecuteTime": {
     "end_time": "2025-05-25T06:52:05.087898Z",
     "start_time": "2025-05-25T06:52:05.079778Z"
    }
   },
   "cell_type": "code",
   "source": [
    "df_tourism = pd.read_csv('./dataset/tourism.csv')\n",
    "df_tourism.head()"
   ],
   "id": "1f4f4ebcf2a41d9d",
   "outputs": [
    {
     "data": {
      "text/plain": [
       "   Place_Id                     Place_Name  \\\n",
       "0         1              Agrowisata Satria   \n",
       "1         2                     Agung Bali   \n",
       "2         3  Wisata Air Panas Toya Bungkah   \n",
       "3         4         Air Terjun Aling-Aling   \n",
       "4         5          Air Terjun Tegenungan   \n",
       "\n",
       "                                         Description  Weekend Holiday Price  \\\n",
       "0  Agrowisata Satria menawarkan 'rasa' Bali pada ...                  50000   \n",
       "1  Dapatkan berbagai produk oleh-oleh khas Bali b...                      0   \n",
       "2  Pemandian air panas di dekat gunung Batur (Pem...                  70000   \n",
       "3  Keberadaan air terjun ini semakin mempercantik...                  20000   \n",
       "4  Bosan dengan wisata alam pantai dan ingin meni...                  20000   \n",
       "\n",
       "   Weekday Price    Category      City  Rating  \\\n",
       "0          50000  Agrowisata   Gianyar     3.0   \n",
       "1              0     Belanja    Badung     4.0   \n",
       "2          70000        Alam    Bangli     4.0   \n",
       "3          20000        Alam  Buleleng     4.5   \n",
       "4          20000        Alam   Gianyar     4.0   \n",
       "\n",
       "                                              Alamat  \\\n",
       "0   Manukaya, Kec. Tampaksiring, Kabupaten Gianya...   \n",
       "1          Jln. Dewi Sri No.18XX, Kuta, Badung, Bali   \n",
       "2  Batur Tengah, Kec. Kintamani, Kabupaten Bangli...   \n",
       "3  Jl. Raya Desa Sambangan, Banjar, Sambangan, Ke...   \n",
       "4  Jl. Ir. Sutami, Kemenuh, Kec. Sukawati, Kabupa...   \n",
       "\n",
       "                               Coordinate       Lat        Long Gambar  \n",
       "0  -8.402228546131536, 115.32296693687739 -8.402229  115.322967      V  \n",
       "1    -8.700234336021559, 115.176534407375 -8.700234  115.176534      V  \n",
       "2  -8.251298580809106, 115.39981444195475 -8.251299  115.399814      V  \n",
       "3  -8.173073590748519, 115.10513024047802 -8.173074  115.105130      V  \n",
       "4  -8.575191460385602, 115.28870189592831 -8.575191  115.288702      V  "
      ],
      "text/html": [
       "<div>\n",
       "<style scoped>\n",
       "    .dataframe tbody tr th:only-of-type {\n",
       "        vertical-align: middle;\n",
       "    }\n",
       "\n",
       "    .dataframe tbody tr th {\n",
       "        vertical-align: top;\n",
       "    }\n",
       "\n",
       "    .dataframe thead th {\n",
       "        text-align: right;\n",
       "    }\n",
       "</style>\n",
       "<table border=\"1\" class=\"dataframe\">\n",
       "  <thead>\n",
       "    <tr style=\"text-align: right;\">\n",
       "      <th></th>\n",
       "      <th>Place_Id</th>\n",
       "      <th>Place_Name</th>\n",
       "      <th>Description</th>\n",
       "      <th>Weekend Holiday Price</th>\n",
       "      <th>Weekday Price</th>\n",
       "      <th>Category</th>\n",
       "      <th>City</th>\n",
       "      <th>Rating</th>\n",
       "      <th>Alamat</th>\n",
       "      <th>Coordinate</th>\n",
       "      <th>Lat</th>\n",
       "      <th>Long</th>\n",
       "      <th>Gambar</th>\n",
       "    </tr>\n",
       "  </thead>\n",
       "  <tbody>\n",
       "    <tr>\n",
       "      <th>0</th>\n",
       "      <td>1</td>\n",
       "      <td>Agrowisata Satria</td>\n",
       "      <td>Agrowisata Satria menawarkan 'rasa' Bali pada ...</td>\n",
       "      <td>50000</td>\n",
       "      <td>50000</td>\n",
       "      <td>Agrowisata</td>\n",
       "      <td>Gianyar</td>\n",
       "      <td>3.0</td>\n",
       "      <td>Manukaya, Kec. Tampaksiring, Kabupaten Gianya...</td>\n",
       "      <td>-8.402228546131536, 115.32296693687739</td>\n",
       "      <td>-8.402229</td>\n",
       "      <td>115.322967</td>\n",
       "      <td>V</td>\n",
       "    </tr>\n",
       "    <tr>\n",
       "      <th>1</th>\n",
       "      <td>2</td>\n",
       "      <td>Agung Bali</td>\n",
       "      <td>Dapatkan berbagai produk oleh-oleh khas Bali b...</td>\n",
       "      <td>0</td>\n",
       "      <td>0</td>\n",
       "      <td>Belanja</td>\n",
       "      <td>Badung</td>\n",
       "      <td>4.0</td>\n",
       "      <td>Jln. Dewi Sri No.18XX, Kuta, Badung, Bali</td>\n",
       "      <td>-8.700234336021559, 115.176534407375</td>\n",
       "      <td>-8.700234</td>\n",
       "      <td>115.176534</td>\n",
       "      <td>V</td>\n",
       "    </tr>\n",
       "    <tr>\n",
       "      <th>2</th>\n",
       "      <td>3</td>\n",
       "      <td>Wisata Air Panas Toya Bungkah</td>\n",
       "      <td>Pemandian air panas di dekat gunung Batur (Pem...</td>\n",
       "      <td>70000</td>\n",
       "      <td>70000</td>\n",
       "      <td>Alam</td>\n",
       "      <td>Bangli</td>\n",
       "      <td>4.0</td>\n",
       "      <td>Batur Tengah, Kec. Kintamani, Kabupaten Bangli...</td>\n",
       "      <td>-8.251298580809106, 115.39981444195475</td>\n",
       "      <td>-8.251299</td>\n",
       "      <td>115.399814</td>\n",
       "      <td>V</td>\n",
       "    </tr>\n",
       "    <tr>\n",
       "      <th>3</th>\n",
       "      <td>4</td>\n",
       "      <td>Air Terjun Aling-Aling</td>\n",
       "      <td>Keberadaan air terjun ini semakin mempercantik...</td>\n",
       "      <td>20000</td>\n",
       "      <td>20000</td>\n",
       "      <td>Alam</td>\n",
       "      <td>Buleleng</td>\n",
       "      <td>4.5</td>\n",
       "      <td>Jl. Raya Desa Sambangan, Banjar, Sambangan, Ke...</td>\n",
       "      <td>-8.173073590748519, 115.10513024047802</td>\n",
       "      <td>-8.173074</td>\n",
       "      <td>115.105130</td>\n",
       "      <td>V</td>\n",
       "    </tr>\n",
       "    <tr>\n",
       "      <th>4</th>\n",
       "      <td>5</td>\n",
       "      <td>Air Terjun Tegenungan</td>\n",
       "      <td>Bosan dengan wisata alam pantai dan ingin meni...</td>\n",
       "      <td>20000</td>\n",
       "      <td>20000</td>\n",
       "      <td>Alam</td>\n",
       "      <td>Gianyar</td>\n",
       "      <td>4.0</td>\n",
       "      <td>Jl. Ir. Sutami, Kemenuh, Kec. Sukawati, Kabupa...</td>\n",
       "      <td>-8.575191460385602, 115.28870189592831</td>\n",
       "      <td>-8.575191</td>\n",
       "      <td>115.288702</td>\n",
       "      <td>V</td>\n",
       "    </tr>\n",
       "  </tbody>\n",
       "</table>\n",
       "</div>"
      ]
     },
     "execution_count": 7,
     "metadata": {},
     "output_type": "execute_result"
    }
   ],
   "execution_count": 7
  },
  {
   "metadata": {
    "ExecuteTime": {
     "end_time": "2025-05-25T06:52:05.160081Z",
     "start_time": "2025-05-25T06:52:05.156216Z"
    }
   },
   "cell_type": "code",
   "source": "df_tourism.dtypes",
   "id": "7b90760cb66f8581",
   "outputs": [
    {
     "data": {
      "text/plain": [
       "Place_Id                   int64\n",
       "Place_Name                object\n",
       "Description               object\n",
       "Weekend Holiday Price      int64\n",
       "Weekday Price              int64\n",
       "Category                  object\n",
       "City                      object\n",
       "Rating                   float64\n",
       "Alamat                    object\n",
       "Coordinate                object\n",
       "Lat                      float64\n",
       "Long                     float64\n",
       "Gambar                    object\n",
       "dtype: object"
      ]
     },
     "execution_count": 8,
     "metadata": {},
     "output_type": "execute_result"
    }
   ],
   "execution_count": 8
  },
  {
   "metadata": {},
   "cell_type": "markdown",
   "source": "Get POI count",
   "id": "31917f586d37d76"
  },
  {
   "metadata": {
    "ExecuteTime": {
     "end_time": "2025-05-25T06:52:05.276762Z",
     "start_time": "2025-05-25T06:52:05.273747Z"
    }
   },
   "cell_type": "code",
   "source": [
    "poi_count = df_rating['Place_Id'].nunique()\n",
    "poi_count"
   ],
   "id": "c04f16a2218420f8",
   "outputs": [
    {
     "data": {
      "text/plain": [
       "75"
      ]
     },
     "execution_count": 9,
     "metadata": {},
     "output_type": "execute_result"
    }
   ],
   "execution_count": 9
  },
  {
   "metadata": {
    "ExecuteTime": {
     "end_time": "2025-05-25T06:52:05.390115Z",
     "start_time": "2025-05-25T06:52:05.386674Z"
    }
   },
   "cell_type": "code",
   "source": "np.sort(df_rating['Place_Id'].unique())",
   "id": "7ca56c0b10fd2fa0",
   "outputs": [
    {
     "data": {
      "text/plain": [
       "array([ 1,  2,  3,  4,  5,  6,  7,  8,  9, 10, 11, 12, 13, 14, 15, 16, 17,\n",
       "       18, 19, 20, 21, 22, 23, 24, 25, 26, 27, 28, 29, 30, 31, 32, 33, 34,\n",
       "       35, 36, 37, 38, 39, 40, 41, 42, 43, 44, 45, 46, 47, 48, 49, 50, 51,\n",
       "       52, 53, 54, 55, 56, 57, 58, 59, 60, 61, 62, 63, 64, 65, 66, 67, 68,\n",
       "       69, 70, 71, 72, 73, 74, 75], dtype=int64)"
      ]
     },
     "execution_count": 10,
     "metadata": {},
     "output_type": "execute_result"
    }
   ],
   "execution_count": 10
  },
  {
   "metadata": {},
   "cell_type": "markdown",
   "source": "# Membuat matriks user-rating",
   "id": "843710b1df0b5d26"
  },
  {
   "metadata": {
    "ExecuteTime": {
     "end_time": "2025-05-25T06:52:05.500790Z",
     "start_time": "2025-05-25T06:52:05.497556Z"
    }
   },
   "cell_type": "code",
   "source": "matrix_user_rating = np.zeros((poi_count, user_count))",
   "id": "381f4319b468d863",
   "outputs": [],
   "execution_count": 11
  },
  {
   "metadata": {
    "ExecuteTime": {
     "end_time": "2025-05-25T06:52:06.605685Z",
     "start_time": "2025-05-25T06:52:05.532898Z"
    }
   },
   "cell_type": "code",
   "source": [
    "for i in range(0, poi_count):\n",
    "    for j in range(0, user_count):\n",
    "        try:\n",
    "            matrix_user_rating[i][j] = df_rating[(df_rating['User_Id'] == i + 1 )& (df_rating['Place_Id'] == j + 1)].iloc[0]['Place_Rating']\n",
    "        except Exception:\n",
    "            continue"
   ],
   "id": "d030088fc281c334",
   "outputs": [],
   "execution_count": 12
  },
  {
   "metadata": {
    "ExecuteTime": {
     "end_time": "2025-05-25T06:52:06.618474Z",
     "start_time": "2025-05-25T06:52:06.614469Z"
    }
   },
   "cell_type": "code",
   "source": "matrix_user_rating",
   "id": "b873a2de0313bfb2",
   "outputs": [
    {
     "data": {
      "text/plain": [
       "array([[0., 3., 0., ..., 0., 0., 0.],\n",
       "       [0., 3., 5., ..., 0., 0., 0.],\n",
       "       [4., 5., 0., ..., 0., 0., 0.],\n",
       "       ...,\n",
       "       [0., 3., 0., ..., 0., 0., 0.],\n",
       "       [4., 4., 5., ..., 0., 0., 0.],\n",
       "       [1., 0., 0., ..., 0., 0., 0.]])"
      ]
     },
     "execution_count": 13,
     "metadata": {},
     "output_type": "execute_result"
    }
   ],
   "execution_count": 13
  },
  {
   "metadata": {
    "ExecuteTime": {
     "end_time": "2025-05-25T06:52:06.662776Z",
     "start_time": "2025-05-25T06:52:06.650457Z"
    }
   },
   "cell_type": "code",
   "source": [
    "df_user_rating = pd.DataFrame(matrix_user_rating,\n",
    "                              index=range(1, poi_count + 1),\n",
    "                              columns=range(1, user_count + 1))\n",
    "df_user_rating.head()\n"
   ],
   "id": "42ffbc103a289305",
   "outputs": [
    {
     "data": {
      "text/plain": [
       "   1    2    3    4    5    6    7    8    9    10   ...  91   92   93   94   \\\n",
       "1  0.0  3.0  0.0  0.0  0.0  0.0  5.0  5.0  0.0  0.0  ...  0.0  0.0  0.0  0.0   \n",
       "2  0.0  3.0  5.0  0.0  2.0  3.0  5.0  5.0  0.0  5.0  ...  0.0  0.0  0.0  0.0   \n",
       "3  4.0  5.0  0.0  5.0  0.0  1.0  0.0  5.0  4.0  0.0  ...  0.0  0.0  0.0  0.0   \n",
       "4  4.0  0.0  3.0  5.0  0.0  0.0  0.0  1.0  0.0  5.0  ...  0.0  0.0  0.0  0.0   \n",
       "5  1.0  0.0  5.0  0.0  4.0  0.0  0.0  0.0  0.0  5.0  ...  0.0  0.0  0.0  0.0   \n",
       "\n",
       "   95   96   97   98   99   100  \n",
       "1  0.0  0.0  0.0  0.0  0.0  0.0  \n",
       "2  0.0  0.0  0.0  0.0  0.0  0.0  \n",
       "3  0.0  0.0  0.0  0.0  0.0  0.0  \n",
       "4  0.0  0.0  0.0  0.0  0.0  0.0  \n",
       "5  0.0  0.0  0.0  0.0  0.0  0.0  \n",
       "\n",
       "[5 rows x 100 columns]"
      ],
      "text/html": [
       "<div>\n",
       "<style scoped>\n",
       "    .dataframe tbody tr th:only-of-type {\n",
       "        vertical-align: middle;\n",
       "    }\n",
       "\n",
       "    .dataframe tbody tr th {\n",
       "        vertical-align: top;\n",
       "    }\n",
       "\n",
       "    .dataframe thead th {\n",
       "        text-align: right;\n",
       "    }\n",
       "</style>\n",
       "<table border=\"1\" class=\"dataframe\">\n",
       "  <thead>\n",
       "    <tr style=\"text-align: right;\">\n",
       "      <th></th>\n",
       "      <th>1</th>\n",
       "      <th>2</th>\n",
       "      <th>3</th>\n",
       "      <th>4</th>\n",
       "      <th>5</th>\n",
       "      <th>6</th>\n",
       "      <th>7</th>\n",
       "      <th>8</th>\n",
       "      <th>9</th>\n",
       "      <th>10</th>\n",
       "      <th>...</th>\n",
       "      <th>91</th>\n",
       "      <th>92</th>\n",
       "      <th>93</th>\n",
       "      <th>94</th>\n",
       "      <th>95</th>\n",
       "      <th>96</th>\n",
       "      <th>97</th>\n",
       "      <th>98</th>\n",
       "      <th>99</th>\n",
       "      <th>100</th>\n",
       "    </tr>\n",
       "  </thead>\n",
       "  <tbody>\n",
       "    <tr>\n",
       "      <th>1</th>\n",
       "      <td>0.0</td>\n",
       "      <td>3.0</td>\n",
       "      <td>0.0</td>\n",
       "      <td>0.0</td>\n",
       "      <td>0.0</td>\n",
       "      <td>0.0</td>\n",
       "      <td>5.0</td>\n",
       "      <td>5.0</td>\n",
       "      <td>0.0</td>\n",
       "      <td>0.0</td>\n",
       "      <td>...</td>\n",
       "      <td>0.0</td>\n",
       "      <td>0.0</td>\n",
       "      <td>0.0</td>\n",
       "      <td>0.0</td>\n",
       "      <td>0.0</td>\n",
       "      <td>0.0</td>\n",
       "      <td>0.0</td>\n",
       "      <td>0.0</td>\n",
       "      <td>0.0</td>\n",
       "      <td>0.0</td>\n",
       "    </tr>\n",
       "    <tr>\n",
       "      <th>2</th>\n",
       "      <td>0.0</td>\n",
       "      <td>3.0</td>\n",
       "      <td>5.0</td>\n",
       "      <td>0.0</td>\n",
       "      <td>2.0</td>\n",
       "      <td>3.0</td>\n",
       "      <td>5.0</td>\n",
       "      <td>5.0</td>\n",
       "      <td>0.0</td>\n",
       "      <td>5.0</td>\n",
       "      <td>...</td>\n",
       "      <td>0.0</td>\n",
       "      <td>0.0</td>\n",
       "      <td>0.0</td>\n",
       "      <td>0.0</td>\n",
       "      <td>0.0</td>\n",
       "      <td>0.0</td>\n",
       "      <td>0.0</td>\n",
       "      <td>0.0</td>\n",
       "      <td>0.0</td>\n",
       "      <td>0.0</td>\n",
       "    </tr>\n",
       "    <tr>\n",
       "      <th>3</th>\n",
       "      <td>4.0</td>\n",
       "      <td>5.0</td>\n",
       "      <td>0.0</td>\n",
       "      <td>5.0</td>\n",
       "      <td>0.0</td>\n",
       "      <td>1.0</td>\n",
       "      <td>0.0</td>\n",
       "      <td>5.0</td>\n",
       "      <td>4.0</td>\n",
       "      <td>0.0</td>\n",
       "      <td>...</td>\n",
       "      <td>0.0</td>\n",
       "      <td>0.0</td>\n",
       "      <td>0.0</td>\n",
       "      <td>0.0</td>\n",
       "      <td>0.0</td>\n",
       "      <td>0.0</td>\n",
       "      <td>0.0</td>\n",
       "      <td>0.0</td>\n",
       "      <td>0.0</td>\n",
       "      <td>0.0</td>\n",
       "    </tr>\n",
       "    <tr>\n",
       "      <th>4</th>\n",
       "      <td>4.0</td>\n",
       "      <td>0.0</td>\n",
       "      <td>3.0</td>\n",
       "      <td>5.0</td>\n",
       "      <td>0.0</td>\n",
       "      <td>0.0</td>\n",
       "      <td>0.0</td>\n",
       "      <td>1.0</td>\n",
       "      <td>0.0</td>\n",
       "      <td>5.0</td>\n",
       "      <td>...</td>\n",
       "      <td>0.0</td>\n",
       "      <td>0.0</td>\n",
       "      <td>0.0</td>\n",
       "      <td>0.0</td>\n",
       "      <td>0.0</td>\n",
       "      <td>0.0</td>\n",
       "      <td>0.0</td>\n",
       "      <td>0.0</td>\n",
       "      <td>0.0</td>\n",
       "      <td>0.0</td>\n",
       "    </tr>\n",
       "    <tr>\n",
       "      <th>5</th>\n",
       "      <td>1.0</td>\n",
       "      <td>0.0</td>\n",
       "      <td>5.0</td>\n",
       "      <td>0.0</td>\n",
       "      <td>4.0</td>\n",
       "      <td>0.0</td>\n",
       "      <td>0.0</td>\n",
       "      <td>0.0</td>\n",
       "      <td>0.0</td>\n",
       "      <td>5.0</td>\n",
       "      <td>...</td>\n",
       "      <td>0.0</td>\n",
       "      <td>0.0</td>\n",
       "      <td>0.0</td>\n",
       "      <td>0.0</td>\n",
       "      <td>0.0</td>\n",
       "      <td>0.0</td>\n",
       "      <td>0.0</td>\n",
       "      <td>0.0</td>\n",
       "      <td>0.0</td>\n",
       "      <td>0.0</td>\n",
       "    </tr>\n",
       "  </tbody>\n",
       "</table>\n",
       "<p>5 rows × 100 columns</p>\n",
       "</div>"
      ]
     },
     "execution_count": 14,
     "metadata": {},
     "output_type": "execute_result"
    }
   ],
   "execution_count": 14
  },
  {
   "metadata": {
    "ExecuteTime": {
     "end_time": "2025-05-25T06:52:06.751976Z",
     "start_time": "2025-05-25T06:52:06.746993Z"
    }
   },
   "cell_type": "code",
   "source": "df_user_rating.to_csv('./dataset/user_rating.csv', index=False)",
   "id": "4019db88360d5167",
   "outputs": [],
   "execution_count": 15
  },
  {
   "metadata": {},
   "cell_type": "markdown",
   "source": "# Prediksi rating",
   "id": "71b4ef134c97ed4a"
  },
  {
   "metadata": {},
   "cell_type": "markdown",
   "source": "## User-based Collaborative Filtering",
   "id": "6b4bd06745d31fdf"
  },
  {
   "metadata": {
    "ExecuteTime": {
     "end_time": "2025-05-25T06:52:07.052648Z",
     "start_time": "2025-05-25T06:52:06.998141Z"
    }
   },
   "cell_type": "code",
   "source": [
    "def predict_ratings_user_based(rating_matrix):\n",
    "    # Create a copy of the rating matrix\n",
    "    predictions = rating_matrix.copy()\n",
    "\n",
    "    # Calculate user similarity matrix using cosine similarity\n",
    "    # Transpose the matrix because we want user similarity (users are columns)\n",
    "    user_similarity = cosine_similarity(rating_matrix.T, rating_matrix.T)\n",
    "\n",
    "    # For each item-user pair with zero rating\n",
    "    for item in range(rating_matrix.shape[0]):\n",
    "        for user in range(rating_matrix.shape[1]):\n",
    "            if rating_matrix[item, user] == 0:\n",
    "                # Get similar users (exclude the current user)\n",
    "                similar_users = user_similarity[user]\n",
    "                similar_users[user] = 0  # exclude self-similarity\n",
    "\n",
    "                # Get ratings for the current item from other users\n",
    "                item_ratings = rating_matrix[item]\n",
    "\n",
    "                # Consider only non-zero ratings\n",
    "                mask = item_ratings != 0\n",
    "\n",
    "                # Calculate weighted average of ratings from similar users\n",
    "                numerator = np.sum(similar_users * item_ratings * mask)\n",
    "                denominator = np.sum(np.abs(similar_users) * mask)\n",
    "\n",
    "                if denominator != 0:\n",
    "                    predictions[item, user] = numerator / denominator\n",
    "                else:\n",
    "                    # If no similar users rated this item, use mean of non-zero ratings\n",
    "                    non_zero_ratings = item_ratings[item_ratings != 0]\n",
    "                    predictions[item, user] = np.mean(non_zero_ratings) if len(non_zero_ratings) > 0 else 0\n",
    "\n",
    "    return predictions\n",
    "\n",
    "# Apply the prediction\n",
    "predicted_ratings = predict_ratings_user_based(matrix_user_rating)\n",
    "\n",
    "# Create DataFrame for better visualization\n",
    "df_user_based_predicted_ratings = pd.DataFrame(predicted_ratings,\n",
    "                                  index=range(1, matrix_user_rating.shape[0] + 1),\n",
    "                                  columns=range(1, matrix_user_rating.shape[1] + 1))\n",
    "\n",
    "predicted_ub_cf_matrix = df_user_based_predicted_ratings.to_numpy()\n",
    "predicted_ub_cf_matrix"
   ],
   "id": "7616f5335d2814d0",
   "outputs": [
    {
     "data": {
      "text/plain": [
       "array([[3.92380705, 3.        , 3.97565102, ..., 3.93333333, 3.93333333,\n",
       "        3.93333333],\n",
       "       [4.25528985, 3.        , 5.        , ..., 4.16666667, 4.16666667,\n",
       "        4.16666667],\n",
       "       [4.        , 5.        , 4.52479864, ..., 4.53333333, 4.53333333,\n",
       "        4.53333333],\n",
       "       ...,\n",
       "       [3.88842673, 3.        , 3.84884551, ..., 3.93333333, 3.93333333,\n",
       "        3.93333333],\n",
       "       [4.        , 4.        , 5.        , ..., 3.76666667, 3.76666667,\n",
       "        3.76666667],\n",
       "       [1.        , 3.39816685, 3.42051977, ..., 3.5       , 3.5       ,\n",
       "        3.5       ]])"
      ]
     },
     "execution_count": 16,
     "metadata": {},
     "output_type": "execute_result"
    }
   ],
   "execution_count": 16
  },
  {
   "metadata": {},
   "cell_type": "markdown",
   "source": "## Item-based Collaborative Filtering",
   "id": "47edc453931e0983"
  },
  {
   "metadata": {
    "ExecuteTime": {
     "end_time": "2025-05-25T06:52:07.301973Z",
     "start_time": "2025-05-25T06:52:07.245839Z"
    }
   },
   "cell_type": "code",
   "source": [
    "def predict_ratings_item_based(rating_matrix):\n",
    "    # Create a copy of the rating matrix\n",
    "    predictions = rating_matrix.copy()\n",
    "\n",
    "    # Calculate item similarity matrix using cosine similarity\n",
    "    # No need to transpose since rows are already items\n",
    "    item_similarity = cosine_similarity(rating_matrix, rating_matrix)\n",
    "\n",
    "    # For each item-user pair with zero rating\n",
    "    for item in range(rating_matrix.shape[0]):\n",
    "        for user in range(rating_matrix.shape[1]):\n",
    "            if rating_matrix[item, user] == 0:\n",
    "                # Get similar items (exclude the current item)\n",
    "                similar_items = item_similarity[item]\n",
    "                similar_items[item] = 0  # exclude self-similarity\n",
    "\n",
    "                # Get user's ratings for all items\n",
    "                user_ratings = rating_matrix[:, user]\n",
    "\n",
    "                # Consider only non-zero ratings\n",
    "                mask = user_ratings != 0\n",
    "\n",
    "                # Calculate weighted average of ratings from similar items\n",
    "                numerator = np.sum(similar_items * user_ratings * mask)\n",
    "                denominator = np.sum(np.abs(similar_items) * mask)\n",
    "\n",
    "                if denominator != 0:\n",
    "                    predictions[item, user] = numerator / denominator\n",
    "                else:\n",
    "                    # If no similar items were rated by this user, use mean of non-zero ratings for the item\n",
    "                    non_zero_ratings = rating_matrix[item][rating_matrix[item] != 0]\n",
    "                    predictions[item, user] = np.mean(non_zero_ratings) if len(non_zero_ratings) > 0 else 0\n",
    "\n",
    "    return predictions\n",
    "\n",
    "# Apply the prediction\n",
    "predicted_ratings = predict_ratings_item_based(matrix_user_rating)\n",
    "\n",
    "# Create DataFrame for better visualization\n",
    "df_item_based_predicted_ratings = pd.DataFrame(predicted_ratings,\n",
    "                                  index=range(1, matrix_user_rating.shape[0] + 1),\n",
    "                                  columns=range(1, matrix_user_rating.shape[1] + 1))\n",
    "predicted_ib_cf_matrix = df_item_based_predicted_ratings.to_numpy()\n",
    "predicted_ib_cf_matrix\n"
   ],
   "id": "cc0631067cc21582",
   "outputs": [
    {
     "data": {
      "text/plain": [
       "array([[2.77027174, 3.        , 3.95796556, ..., 3.93333333, 3.93333333,\n",
       "        3.93333333],\n",
       "       [2.73873318, 3.        , 5.        , ..., 4.16666667, 4.16666667,\n",
       "        4.16666667],\n",
       "       [4.        , 5.        , 3.91862689, ..., 4.53333333, 4.53333333,\n",
       "        4.53333333],\n",
       "       ...,\n",
       "       [2.78127436, 3.        , 3.93475525, ..., 3.93333333, 3.93333333,\n",
       "        3.93333333],\n",
       "       [4.        , 4.        , 5.        , ..., 3.76666667, 3.76666667,\n",
       "        3.76666667],\n",
       "       [1.        , 3.85808676, 3.99479862, ..., 3.5       , 3.5       ,\n",
       "        3.5       ]])"
      ]
     },
     "execution_count": 17,
     "metadata": {},
     "output_type": "execute_result"
    }
   ],
   "execution_count": 17
  },
  {
   "metadata": {},
   "cell_type": "markdown",
   "source": "## SVD",
   "id": "bb4aeb1d6aad4fab"
  },
  {
   "metadata": {
    "ExecuteTime": {
     "end_time": "2025-05-25T06:52:09.326578Z",
     "start_time": "2025-05-25T06:52:07.377835Z"
    }
   },
   "cell_type": "code",
   "source": [
    "class MatrixFactorization:\n",
    "    def __init__(self, R, K, alpha, beta, iterations):\n",
    "        \"\"\"\n",
    "        Perform matrix factorization to predict missing ratings.\n",
    "\n",
    "        Parameters:\n",
    "        - R (np.array): User-item rating matrix with 0 for missing values\n",
    "        - K (int): Number of latent factors\n",
    "        - alpha (float): Learning rate\n",
    "        - beta (float): Regularization parameter\n",
    "        - iterations (int): Number of iterations for SGD\n",
    "        \"\"\"\n",
    "        self.R = R\n",
    "        self.num_users, self.num_items = R.shape\n",
    "        self.K = K\n",
    "        self.alpha = alpha\n",
    "        self.beta = beta\n",
    "        self.iterations = iterations\n",
    "\n",
    "    def train(self):\n",
    "        # Initialize user and item latent factor matrices with small random values\n",
    "        self.P = np.random.normal(scale=1./self.K, size=(self.num_users, self.K))\n",
    "        self.Q = np.random.normal(scale=1./self.K, size=(self.num_items, self.K))\n",
    "\n",
    "        # Create a mask for observed ratings (non-zero entries)\n",
    "        self.observed = self.R > 0\n",
    "\n",
    "        # SGD optimization\n",
    "        for it in range(self.iterations):\n",
    "            for i in range(self.num_users):\n",
    "                for j in range(self.num_items):\n",
    "                    if self.observed[i, j]:\n",
    "                        # Compute error of prediction\n",
    "                        prediction = self.predict_single(i, j)\n",
    "                        e_ij = self.R[i, j] - prediction\n",
    "\n",
    "                        # Update latent factors with gradient descent\n",
    "                        self.P[i, :] += self.alpha * (e_ij * self.Q[j, :] - self.beta * self.P[i, :])\n",
    "                        self.Q[j, :] += self.alpha * (e_ij * self.P[i, :] - self.beta * self.Q[j, :])\n",
    "\n",
    "            # Optionally, compute total error to monitor convergence\n",
    "            error = self.compute_error()\n",
    "            if (it + 1) % 10 == 0 or it == 0:\n",
    "                print(f\"Iteration {it+1}/{self.iterations}, error: {error:.4f}\")\n",
    "\n",
    "    def predict_single(self, i, j):\n",
    "        \"\"\"Predict rating of user i for item j.\"\"\"\n",
    "        return np.dot(self.P[i, :], self.Q[j, :].T)\n",
    "\n",
    "    def full_matrix(self):\n",
    "        \"\"\"Reconstruct the full rating matrix with predicted values.\"\"\"\n",
    "        return np.dot(self.P, self.Q.T)\n",
    "\n",
    "    def compute_error(self):\n",
    "        \"\"\"Compute total squared error on observed ratings with regularization.\"\"\"\n",
    "        prediction = self.full_matrix()\n",
    "        error = 0\n",
    "        for i in range(self.num_users):\n",
    "            for j in range(self.num_items):\n",
    "                if self.observed[i, j]:\n",
    "                    error += (self.R[i, j] - prediction[i, j]) ** 2\n",
    "        # Add regularization terms\n",
    "        error += self.beta * (np.sum(np.square(self.P)) + np.sum(np.square(self.Q)))\n",
    "        return error\n",
    "\n",
    "mf = MatrixFactorization(matrix_user_rating, K=3, alpha=0.01, beta=0.01, iterations=100)\n",
    "mf.train()\n",
    "\n",
    "predicted_svd_matrix = mf.full_matrix()\n",
    "predicted_svd_matrix = np.clip(predicted_svd_matrix, 0, 5)  # Clip ratings to [0, 5]\n",
    "\n",
    "predicted_svd_matrix"
   ],
   "id": "626e3f182362d977",
   "outputs": [
    {
     "name": "stdout",
     "output_type": "stream",
     "text": [
      "Iteration 1/100, error: 40411.0511\n",
      "Iteration 10/100, error: 1859.2313\n",
      "Iteration 20/100, error: 1742.5116\n",
      "Iteration 30/100, error: 1667.5425\n",
      "Iteration 40/100, error: 1613.4014\n",
      "Iteration 50/100, error: 1569.5336\n",
      "Iteration 60/100, error: 1533.9825\n",
      "Iteration 70/100, error: 1506.9904\n",
      "Iteration 80/100, error: 1487.1942\n",
      "Iteration 90/100, error: 1472.2602\n",
      "Iteration 100/100, error: 1460.5386\n"
     ]
    },
    {
     "data": {
      "text/plain": [
       "array([[1.70406113, 3.3657102 , 3.70226911, ..., 0.        , 0.16402489,\n",
       "        1.40566533],\n",
       "       [2.32217312, 4.03374077, 4.23719002, ..., 0.        , 0.59415891,\n",
       "        1.40127655],\n",
       "       [2.5376784 , 4.30913709, 4.49238445, ..., 0.        , 0.63762627,\n",
       "        1.48946578],\n",
       "       ...,\n",
       "       [4.0245523 , 3.38797297, 2.34240353, ..., 0.08246914, 0.31001832,\n",
       "        1.09418116],\n",
       "       [2.09845676, 3.45532903, 3.55374096, ..., 0.        , 0.63837417,\n",
       "        1.10630907],\n",
       "       [2.67036412, 2.56318848, 2.0463661 , ..., 0.        , 0.        ,\n",
       "        1.25845633]])"
      ]
     },
     "execution_count": 18,
     "metadata": {},
     "output_type": "execute_result"
    }
   ],
   "execution_count": 18
  },
  {
   "metadata": {},
   "cell_type": "markdown",
   "source": "## Alternating Least Square (ALS)",
   "id": "3ab504f62ddba476"
  },
  {
   "metadata": {
    "ExecuteTime": {
     "end_time": "2025-05-25T06:52:09.516503Z",
     "start_time": "2025-05-25T06:52:09.421737Z"
    }
   },
   "cell_type": "code",
   "source": [
    "class ALS:\n",
    "    def __init__(self, R, K=10, lambda_reg=0.1, iterations=20):\n",
    "        \"\"\"\n",
    "        ALS matrix factorization for explicit feedback.\n",
    "\n",
    "        Parameters:\n",
    "        - R (np.array): User-item rating matrix with 0 for missing ratings\n",
    "        - K (int): Number of latent factors\n",
    "        - lambda_reg (float): Regularization parameter\n",
    "        - iterations (int): Number of ALS iterations\n",
    "        \"\"\"\n",
    "        self.R = R\n",
    "        self.num_users, self.num_items = R.shape\n",
    "        self.K = K\n",
    "        self.lambda_reg = lambda_reg\n",
    "        self.iterations = iterations\n",
    "\n",
    "        # Initialize user and item latent factor matrices with random values\n",
    "        self.U = np.random.rand(self.num_users, K)\n",
    "        self.V = np.random.rand(self.num_items, K)\n",
    "\n",
    "        # Mask for observed ratings\n",
    "        self.observed = R > 0\n",
    "\n",
    "    def train(self):\n",
    "        for it in range(self.iterations):\n",
    "            # Fix V, update U\n",
    "            for i in range(self.num_users):\n",
    "                V_i = self.V[self.observed[i, :], :]\n",
    "                R_i = self.R[i, self.observed[i, :]]\n",
    "                if V_i.shape[0] > 0:\n",
    "                    A = V_i.T @ V_i + self.lambda_reg * np.eye(self.K)\n",
    "                    b = V_i.T @ R_i\n",
    "                    self.U[i, :] = np.linalg.solve(A, b)\n",
    "\n",
    "            # Fix U, update V\n",
    "            for j in range(self.num_items):\n",
    "                U_j = self.U[self.observed[:, j], :]\n",
    "                R_j = self.R[self.observed[:, j], j]\n",
    "                if U_j.shape[0] > 0:\n",
    "                    A = U_j.T @ U_j + self.lambda_reg * np.eye(self.K)\n",
    "                    b = U_j.T @ R_j\n",
    "                    self.V[j, :] = np.linalg.solve(A, b)\n",
    "\n",
    "            error = self.compute_error()\n",
    "            print(f\"Iteration {it+1}/{self.iterations}, error: {error:.4f}\")\n",
    "\n",
    "    def predict(self):\n",
    "        \"\"\"Reconstruct the full rating matrix.\"\"\"\n",
    "        return self.U @ self.V.T\n",
    "\n",
    "    def compute_error(self):\n",
    "        \"\"\"Compute squared error on observed ratings with regularization.\"\"\"\n",
    "        prediction = self.predict()\n",
    "        error = 0\n",
    "        for i in range(self.num_users):\n",
    "            for j in range(self.num_items):\n",
    "                if self.observed[i, j]:\n",
    "                    error += (self.R[i, j] - prediction[i, j]) ** 2\n",
    "        # Add regularization terms\n",
    "        error += self.lambda_reg * (np.sum(np.square(self.U)) + np.sum(np.square(self.V)))\n",
    "        return error\n",
    "\n",
    "# mf = ALS(matrix_user_rating, K=3, alpha=0.01, beta=0.01, iterations=100)\n",
    "als = ALS(matrix_user_rating, K=3, lambda_reg=0.1, iterations=30)\n",
    "als.train()\n",
    "\n",
    "predicted_als_matrix = als.predict()\n",
    "predicted_als_matrix = np.clip(predicted_als_matrix, 0, 5)\n",
    "\n",
    "predicted_als_matrix = np.round(predicted_als_matrix, 2)\n",
    "predicted_als_matrix\n"
   ],
   "id": "7490d376281d83a9",
   "outputs": [
    {
     "name": "stdout",
     "output_type": "stream",
     "text": [
      "Iteration 1/30, error: 1925.6393\n",
      "Iteration 2/30, error: 1661.3836\n",
      "Iteration 3/30, error: 1597.4863\n",
      "Iteration 4/30, error: 1567.8665\n",
      "Iteration 5/30, error: 1548.4354\n",
      "Iteration 6/30, error: 1535.5166\n",
      "Iteration 7/30, error: 1527.0504\n",
      "Iteration 8/30, error: 1521.2784\n",
      "Iteration 9/30, error: 1517.0499\n",
      "Iteration 10/30, error: 1513.7119\n",
      "Iteration 11/30, error: 1510.9178\n",
      "Iteration 12/30, error: 1508.4706\n",
      "Iteration 13/30, error: 1506.2349\n",
      "Iteration 14/30, error: 1504.0967\n",
      "Iteration 15/30, error: 1501.9424\n",
      "Iteration 16/30, error: 1499.6426\n",
      "Iteration 17/30, error: 1497.0277\n",
      "Iteration 18/30, error: 1493.8511\n",
      "Iteration 19/30, error: 1489.7332\n",
      "Iteration 20/30, error: 1484.1716\n",
      "Iteration 21/30, error: 1477.0263\n",
      "Iteration 22/30, error: 1469.6439\n",
      "Iteration 23/30, error: 1464.0607\n",
      "Iteration 24/30, error: 1460.5766\n",
      "Iteration 25/30, error: 1458.3935\n",
      "Iteration 26/30, error: 1456.8710\n",
      "Iteration 27/30, error: 1455.6806\n",
      "Iteration 28/30, error: 1454.6684\n",
      "Iteration 29/30, error: 1453.7608\n",
      "Iteration 30/30, error: 1452.9207\n"
     ]
    },
    {
     "data": {
      "text/plain": [
       "array([[1.67, 3.01, 4.59, ..., 2.49, 3.46, 4.45],\n",
       "       [4.66, 2.98, 4.67, ..., 2.43, 2.93, 4.72],\n",
       "       [3.35, 4.5 , 3.87, ..., 3.28, 3.55, 5.  ],\n",
       "       ...,\n",
       "       [5.  , 3.14, 3.33, ..., 2.33, 2.26, 4.48],\n",
       "       [4.45, 2.73, 4.02, ..., 2.19, 2.53, 4.26],\n",
       "       [1.24, 0.  , 5.  , ..., 0.  , 2.93, 1.13]])"
      ]
     },
     "execution_count": 19,
     "metadata": {},
     "output_type": "execute_result"
    }
   ],
   "execution_count": 19
  },
  {
   "metadata": {},
   "cell_type": "markdown",
   "source": "## PMF",
   "id": "20ed432c46f58d29"
  },
  {
   "metadata": {
    "ExecuteTime": {
     "end_time": "2025-05-25T06:52:11.431046Z",
     "start_time": "2025-05-25T06:52:09.646800Z"
    }
   },
   "cell_type": "code",
   "source": [
    "class PMF:\n",
    "    def __init__(self, R, K=10, lambda_u=0.1, lambda_v=0.1, learning_rate=0.005, iterations=100):\n",
    "        \"\"\"\n",
    "        Probabilistic Matrix Factorization using gradient descent.\n",
    "\n",
    "        Parameters:\n",
    "        - R (np.array): User-item rating matrix with 0 for missing ratings\n",
    "        - K (int): Number of latent factors\n",
    "        - lambda_u (float): Regularization for user factors\n",
    "        - lambda_v (float): Regularization for item factors\n",
    "        - learning_rate (float): Learning rate for gradient descent\n",
    "        - iterations (int): Number of iterations for training\n",
    "        \"\"\"\n",
    "        self.R = R\n",
    "        self.num_users, self.num_items = R.shape\n",
    "        self.K = K\n",
    "        self.lambda_u = lambda_u\n",
    "        self.lambda_v = lambda_v\n",
    "        self.learning_rate = learning_rate\n",
    "        self.iterations = iterations\n",
    "\n",
    "        # Initialize latent factors with small random values\n",
    "        self.U = 0.1 * np.random.randn(self.num_users, K)\n",
    "        self.V = 0.1 * np.random.randn(self.num_items, K)\n",
    "\n",
    "        # Mask for observed ratings\n",
    "        self.observed = R > 0\n",
    "\n",
    "    def train(self):\n",
    "        for it in range(self.iterations):\n",
    "            self.gradient_descent_step()\n",
    "            error = self.compute_error()\n",
    "            if (it + 1) % 10 == 0 or it == 0:\n",
    "                print(f\"Iteration {it+1}/{self.iterations}, error: {error:.4f}\")\n",
    "\n",
    "    def gradient_descent_step(self):\n",
    "        for i in range(self.num_users):\n",
    "            for j in range(self.num_items):\n",
    "                if self.observed[i, j]:\n",
    "                    prediction = self.U[i, :].dot(self.V[j, :].T)\n",
    "                    e_ij = self.R[i, j] - prediction\n",
    "\n",
    "                    # Update user and item latent factors\n",
    "                    self.U[i, :] += self.learning_rate * (e_ij * self.V[j, :] - self.lambda_u * self.U[i, :])\n",
    "                    self.V[j, :] += self.learning_rate * (e_ij * self.U[i, :] - self.lambda_v * self.V[j, :])\n",
    "\n",
    "    def predict(self):\n",
    "        \"\"\"Reconstruct the full rating matrix.\"\"\"\n",
    "        return self.U.dot(self.V.T)\n",
    "\n",
    "    def compute_error(self):\n",
    "        \"\"\"Compute regularized squared error on observed ratings.\"\"\"\n",
    "        prediction = self.predict()\n",
    "        error = 0\n",
    "        for i in range(self.num_users):\n",
    "            for j in range(self.num_items):\n",
    "                if self.observed[i, j]:\n",
    "                    error += (self.R[i, j] - prediction[i, j]) ** 2\n",
    "        # Add regularization terms\n",
    "        error += self.lambda_u * np.sum(self.U ** 2) + self.lambda_v * np.sum(self.V ** 2)\n",
    "        return error\n",
    "\n",
    "# Example user-item matrix (0 means missing rating)\n",
    "R = np.array([\n",
    "    [5, 3, 0, 1],\n",
    "    [4, 0, 0, 1],\n",
    "    [1, 1, 0, 5],\n",
    "    [1, 0, 0, 4],\n",
    "    [0, 1, 5, 4],\n",
    "])\n",
    "\n",
    "pmf = PMF(matrix_user_rating, K=3, lambda_u=0.1, lambda_v=0.1, learning_rate=0.005, iterations=100)\n",
    "pmf.train()\n",
    "\n",
    "predicted_pmf_matrix = pmf.predict()\n",
    "# Clip predicted ratings to [0, 5]\n",
    "predicted_pmf_matrix = np.clip(predicted_pmf_matrix, 0, 5)\n",
    "predicted_pmf_matrix = np.round(predicted_pmf_matrix, 2)\n",
    "predicted_pmf_matrix"
   ],
   "id": "8fd2b320b20cb029",
   "outputs": [
    {
     "name": "stdout",
     "output_type": "stream",
     "text": [
      "Iteration 1/100, error: 40956.9545\n",
      "Iteration 10/100, error: 2449.2223\n",
      "Iteration 20/100, error: 2008.6438\n",
      "Iteration 30/100, error: 1991.0020\n",
      "Iteration 40/100, error: 1963.9998\n",
      "Iteration 50/100, error: 1923.6401\n",
      "Iteration 60/100, error: 1870.3659\n",
      "Iteration 70/100, error: 1811.0516\n",
      "Iteration 80/100, error: 1754.6357\n",
      "Iteration 90/100, error: 1706.2245\n",
      "Iteration 100/100, error: 1667.1305\n"
     ]
    },
    {
     "data": {
      "text/plain": [
       "array([[1.59, 3.38, 3.99, ..., 0.12, 0.06, 0.  ],\n",
       "       [2.36, 3.83, 4.2 , ..., 0.24, 0.  , 0.  ],\n",
       "       [2.9 , 4.22, 4.11, ..., 0.22, 0.  , 0.  ],\n",
       "       ...,\n",
       "       [1.93, 3.42, 3.56, ..., 0.09, 0.05, 0.  ],\n",
       "       [2.08, 3.25, 4.02, ..., 0.37, 0.  , 0.  ],\n",
       "       [1.05, 2.94, 3.25, ..., 0.  , 0.14, 0.  ]])"
      ]
     },
     "execution_count": 20,
     "metadata": {},
     "output_type": "execute_result"
    }
   ],
   "execution_count": 20
  },
  {
   "metadata": {},
   "cell_type": "markdown",
   "source": "# Evaluation",
   "id": "95b7be656d173017"
  },
  {
   "metadata": {
    "ExecuteTime": {
     "end_time": "2025-05-25T06:52:11.583141Z",
     "start_time": "2025-05-25T06:52:11.579812Z"
    }
   },
   "cell_type": "code",
   "source": [
    "def evaluate_predictions(true_ratings, _predicted_ratings, mask):\n",
    "    \"\"\"\n",
    "    Evaluate predictions using various metrics\n",
    "\n",
    "    Parameters:\n",
    "    - true_ratings: actual rating matrix\n",
    "    - _predicted_ratings: predicted rating matrix\n",
    "    - mask: boolean matrix indicating which entries to evaluate (True for test entries)\n",
    "\n",
    "    Returns:\n",
    "    Dictionary containing different evaluation metrics\n",
    "    \"\"\"\n",
    "    # Get only the predictions we want to evaluate (where mask is True)\n",
    "    y_true = true_ratings[mask]\n",
    "    y_pred = _predicted_ratings[mask]\n",
    "\n",
    "    # Calculate metrics\n",
    "    rmse = np.sqrt(mean_squared_error(y_true, y_pred))\n",
    "    mae = mean_absolute_error(y_true, y_pred)\n",
    "    mse = mean_squared_error(y_true, y_pred)\n",
    "\n",
    "    return {\n",
    "        'RMSE': rmse,\n",
    "        'MAE': mae,\n",
    "        'MSE': mse\n",
    "    }"
   ],
   "id": "7bee5bb6dad4362d",
   "outputs": [],
   "execution_count": 21
  },
  {
   "metadata": {
    "ExecuteTime": {
     "end_time": "2025-05-25T06:52:11.765395Z",
     "start_time": "2025-05-25T06:52:11.761876Z"
    }
   },
   "cell_type": "code",
   "source": [
    "def train_test_split_matrix(rating_matrix, test_ratio=0.2):\n",
    "    \"\"\"\n",
    "    Split the rating matrix into training and test sets\n",
    "\n",
    "    Parameters:\n",
    "    - rating_matrix: The original rating matrix\n",
    "    - test_ratio: Proportion of non-zero entries to use for testing\n",
    "\n",
    "    Returns:\n",
    "    - train_matrix: Training matrix with test entries as 0\n",
    "    - test_mask: Boolean matrix indicating test entries\n",
    "    \"\"\"\n",
    "    # Create copy of the original matrix\n",
    "    train_matrix = rating_matrix.copy()\n",
    "\n",
    "    # Create mask for non-zero entries\n",
    "    non_zero_mask = rating_matrix != 0\n",
    "\n",
    "    # Create test mask initialized with False\n",
    "    test_mask = np.zeros_like(rating_matrix, dtype=bool)\n",
    "\n",
    "    # Get indices of non-zero entries\n",
    "    non_zero_indices = np.where(non_zero_mask)\n",
    "    n_non_zero = len(non_zero_indices[0])\n",
    "\n",
    "    # Randomly select indices for test set\n",
    "    test_size = int(n_non_zero * test_ratio)\n",
    "    test_indices = np.random.choice(n_non_zero, test_size, replace=False)\n",
    "\n",
    "    # Mark selected entries as test entries\n",
    "    test_mask[non_zero_indices[0][test_indices],\n",
    "              non_zero_indices[1][test_indices]] = True\n",
    "\n",
    "    # Set test entries to 0 in training matrix\n",
    "    train_matrix[test_mask] = 0\n",
    "\n",
    "    return train_matrix, test_mask"
   ],
   "id": "a8b6812164186518",
   "outputs": [],
   "execution_count": 22
  },
  {
   "metadata": {
    "ExecuteTime": {
     "end_time": "2025-05-25T06:52:15.482413Z",
     "start_time": "2025-05-25T06:52:11.939627Z"
    }
   },
   "cell_type": "code",
   "source": [
    "# First split the data\n",
    "train_matrix, test_mask = train_test_split_matrix(matrix_user_rating)\n",
    "\n",
    "# For each method, train on train_matrix and evaluate on test set\n",
    "# User-based CF\n",
    "predicted_ub = predict_ratings_user_based(train_matrix)\n",
    "ub_metrics = evaluate_predictions(matrix_user_rating, predicted_ub, test_mask)\n",
    "\n",
    "# Item-based CF\n",
    "predicted_ib = predict_ratings_item_based(train_matrix)\n",
    "ib_metrics = evaluate_predictions(matrix_user_rating, predicted_ib, test_mask)\n",
    "\n",
    "# SVD\n",
    "mf = MatrixFactorization(train_matrix, K=3, alpha=0.01, beta=0.01, iterations=100)\n",
    "mf.train()\n",
    "predicted_svd = mf.full_matrix()\n",
    "svd_metrics = evaluate_predictions(matrix_user_rating, predicted_svd, test_mask)\n",
    "\n",
    "# ALS\n",
    "als = ALS(train_matrix, K=10, lambda_reg=0.1, iterations=20)\n",
    "als.train()\n",
    "predicted_als = als.predict()\n",
    "als_metrics = evaluate_predictions(matrix_user_rating, predicted_als, test_mask)\n",
    "\n",
    "# PMF\n",
    "pmf = PMF(matrix_user_rating, K=3, lambda_u=0.1, lambda_v=0.1, learning_rate=0.005, iterations=100)\n",
    "pmf.train()\n",
    "predicted_pmf = als.predict()\n",
    "pmf_metrics = evaluate_predictions(matrix_user_rating, predicted_pmf, test_mask)\n",
    "\n",
    "# Print results\n",
    "methods = ['User-based CF', 'Item-based CF', 'SVD', 'ALS', 'PMF']\n",
    "metrics = [ub_metrics, ib_metrics, svd_metrics, als_metrics, pmf_metrics]\n",
    "\n",
    "print(\"\\nEvaluation Results:\")\n",
    "print(\"-\" * 50)\n",
    "for method, metric in zip(methods, metrics):\n",
    "    print(f\"\\n{method}:\")\n",
    "    for metric_name, value in metric.items():\n",
    "        print(f\"{metric_name}: {value:.4f}\")"
   ],
   "id": "94c025f46a2b0e34",
   "outputs": [
    {
     "name": "stdout",
     "output_type": "stream",
     "text": [
      "Iteration 1/100, error: 32057.6333\n",
      "Iteration 10/100, error: 1405.4277\n",
      "Iteration 20/100, error: 1266.2060\n",
      "Iteration 30/100, error: 1157.9053\n",
      "Iteration 40/100, error: 1089.2558\n",
      "Iteration 50/100, error: 1044.7988\n",
      "Iteration 60/100, error: 1015.0444\n",
      "Iteration 70/100, error: 995.1739\n",
      "Iteration 80/100, error: 981.7320\n",
      "Iteration 90/100, error: 972.2409\n",
      "Iteration 100/100, error: 965.0170\n",
      "Iteration 1/20, error: 765.8105\n",
      "Iteration 2/20, error: 445.3199\n",
      "Iteration 3/20, error: 358.5873\n",
      "Iteration 4/20, error: 315.3870\n",
      "Iteration 5/20, error: 289.1581\n",
      "Iteration 6/20, error: 271.9549\n",
      "Iteration 7/20, error: 259.2445\n",
      "Iteration 8/20, error: 249.3587\n",
      "Iteration 9/20, error: 241.6022\n",
      "Iteration 10/20, error: 235.3894\n",
      "Iteration 11/20, error: 230.2638\n",
      "Iteration 12/20, error: 225.9402\n",
      "Iteration 13/20, error: 222.2396\n",
      "Iteration 14/20, error: 219.0412\n",
      "Iteration 15/20, error: 216.2629\n",
      "Iteration 16/20, error: 213.8469\n",
      "Iteration 17/20, error: 211.7477\n",
      "Iteration 18/20, error: 209.9245\n",
      "Iteration 19/20, error: 208.3393\n",
      "Iteration 20/20, error: 206.9574\n",
      "Iteration 1/100, error: 40962.8970\n",
      "Iteration 10/100, error: 2531.9965\n",
      "Iteration 20/100, error: 2011.9331\n",
      "Iteration 30/100, error: 1998.6516\n",
      "Iteration 40/100, error: 1977.9602\n",
      "Iteration 50/100, error: 1945.2772\n",
      "Iteration 60/100, error: 1897.7483\n",
      "Iteration 70/100, error: 1838.5395\n",
      "Iteration 80/100, error: 1777.6884\n",
      "Iteration 90/100, error: 1724.8334\n",
      "Iteration 100/100, error: 1683.5582\n",
      "\n",
      "Evaluation Results:\n",
      "--------------------------------------------------\n",
      "\n",
      "User-based CF:\n",
      "RMSE: 1.1047\n",
      "MAE: 0.8441\n",
      "MSE: 1.2204\n",
      "\n",
      "Item-based CF:\n",
      "RMSE: 1.0447\n",
      "MAE: 0.7780\n",
      "MSE: 1.0914\n",
      "\n",
      "SVD:\n",
      "RMSE: 1.1538\n",
      "MAE: 0.8319\n",
      "MSE: 1.3312\n",
      "\n",
      "ALS:\n",
      "RMSE: 1.8067\n",
      "MAE: 1.2774\n",
      "MSE: 3.2640\n",
      "\n",
      "PMF:\n",
      "RMSE: 1.8067\n",
      "MAE: 1.2774\n",
      "MSE: 3.2640\n"
     ]
    }
   ],
   "execution_count": 23
  },
  {
   "metadata": {},
   "cell_type": "markdown",
   "source": "# Export data",
   "id": "b13a0dc8ee59c7bf"
  },
  {
   "metadata": {
    "ExecuteTime": {
     "end_time": "2025-05-25T06:52:15.525874Z",
     "start_time": "2025-05-25T06:52:15.502962Z"
    }
   },
   "cell_type": "code",
   "source": [
    "results = [predicted_ub_cf_matrix, predicted_ib_cf_matrix, predicted_svd_matrix, predicted_als_matrix, predicted_pmf_matrix]\n",
    "for method, result in zip(methods, results):\n",
    "    df_user_rating = pd.DataFrame(result,\n",
    "                                  index=range(1, poi_count + 1),\n",
    "                                  columns=range(1, user_count + 1))\n",
    "    df_user_rating.to_csv(f'./dataset/user_rating_{method}.csv', index=False)"
   ],
   "id": "a70855e187d4bcf0",
   "outputs": [],
   "execution_count": 24
  }
 ],
 "metadata": {
  "kernelspec": {
   "display_name": "Python 3",
   "language": "python",
   "name": "python3"
  },
  "language_info": {
   "codemirror_mode": {
    "name": "ipython",
    "version": 2
   },
   "file_extension": ".py",
   "mimetype": "text/x-python",
   "name": "python",
   "nbconvert_exporter": "python",
   "pygments_lexer": "ipython2",
   "version": "2.7.6"
  }
 },
 "nbformat": 4,
 "nbformat_minor": 5
}
