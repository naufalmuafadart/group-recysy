{
 "cells": [
  {
   "metadata": {},
   "cell_type": "markdown",
   "source": "# Import library",
   "id": "d7340b2b76d8431a"
  },
  {
   "metadata": {
    "ExecuteTime": {
     "end_time": "2025-05-11T20:03:21.191659Z",
     "start_time": "2025-05-11T20:03:20.744611Z"
    }
   },
   "cell_type": "code",
   "source": [
    "import pandas as pd\n",
    "import numpy as np"
   ],
   "id": "initial_id",
   "outputs": [],
   "execution_count": 1
  },
  {
   "metadata": {},
   "cell_type": "markdown",
   "source": "# Read dataset",
   "id": "d34375c20abda610"
  },
  {
   "metadata": {},
   "cell_type": "markdown",
   "source": "Dataset obtained https://www.kaggle.com/datasets/utarasetyaw/data-set-destination-in-bali/",
   "id": "4f4ad9feb5201686"
  },
  {
   "metadata": {
    "ExecuteTime": {
     "end_time": "2025-05-11T20:03:21.662606Z",
     "start_time": "2025-05-11T20:03:21.365634Z"
    }
   },
   "cell_type": "code",
   "source": [
    "df_combination = pd.read_csv('./dataset/combination.csv')\n",
    "df_combination.head()"
   ],
   "id": "ad422bea388db57e",
   "outputs": [
    {
     "data": {
      "text/plain": [
       "                Place 1                   Place 2   \\\n",
       "0       Pantai Pasih Uug  Pantai Angel's Billabong   \n",
       "1         Pantai Diamond               Pantai Atuh   \n",
       "2         Tanjung Benoa           Pantai Waterblow   \n",
       "3  Tari Barong dan Keris                Sari Merta   \n",
       "4  Tari Barong dan Keris                Sari Merta   \n",
       "\n",
       "                        Place 3             Place 4           Place 5  \n",
       "0              Pantai Kelingking  Pantai Crystal Bay              NaN  \n",
       "1               Bukit Teletubies                 NaN              NaN  \n",
       "2                   Pura Uluwatu      Pantai Pandawa  Pantai Jimbaran  \n",
       "3               Pura Tirta Empul     Pantai Jimbaran              NaN  \n",
       "4  Objek Wisata Desa Panglipuran     Pantai Jimbaran              NaN  "
      ],
      "text/html": [
       "<div>\n",
       "<style scoped>\n",
       "    .dataframe tbody tr th:only-of-type {\n",
       "        vertical-align: middle;\n",
       "    }\n",
       "\n",
       "    .dataframe tbody tr th {\n",
       "        vertical-align: top;\n",
       "    }\n",
       "\n",
       "    .dataframe thead th {\n",
       "        text-align: right;\n",
       "    }\n",
       "</style>\n",
       "<table border=\"1\" class=\"dataframe\">\n",
       "  <thead>\n",
       "    <tr style=\"text-align: right;\">\n",
       "      <th></th>\n",
       "      <th>Place 1</th>\n",
       "      <th>Place 2</th>\n",
       "      <th>Place 3</th>\n",
       "      <th>Place 4</th>\n",
       "      <th>Place 5</th>\n",
       "    </tr>\n",
       "  </thead>\n",
       "  <tbody>\n",
       "    <tr>\n",
       "      <th>0</th>\n",
       "      <td>Pantai Pasih Uug</td>\n",
       "      <td>Pantai Angel's Billabong</td>\n",
       "      <td>Pantai Kelingking</td>\n",
       "      <td>Pantai Crystal Bay</td>\n",
       "      <td>NaN</td>\n",
       "    </tr>\n",
       "    <tr>\n",
       "      <th>1</th>\n",
       "      <td>Pantai Diamond</td>\n",
       "      <td>Pantai Atuh</td>\n",
       "      <td>Bukit Teletubies</td>\n",
       "      <td>NaN</td>\n",
       "      <td>NaN</td>\n",
       "    </tr>\n",
       "    <tr>\n",
       "      <th>2</th>\n",
       "      <td>Tanjung Benoa</td>\n",
       "      <td>Pantai Waterblow</td>\n",
       "      <td>Pura Uluwatu</td>\n",
       "      <td>Pantai Pandawa</td>\n",
       "      <td>Pantai Jimbaran</td>\n",
       "    </tr>\n",
       "    <tr>\n",
       "      <th>3</th>\n",
       "      <td>Tari Barong dan Keris</td>\n",
       "      <td>Sari Merta</td>\n",
       "      <td>Pura Tirta Empul</td>\n",
       "      <td>Pantai Jimbaran</td>\n",
       "      <td>NaN</td>\n",
       "    </tr>\n",
       "    <tr>\n",
       "      <th>4</th>\n",
       "      <td>Tari Barong dan Keris</td>\n",
       "      <td>Sari Merta</td>\n",
       "      <td>Objek Wisata Desa Panglipuran</td>\n",
       "      <td>Pantai Jimbaran</td>\n",
       "      <td>NaN</td>\n",
       "    </tr>\n",
       "  </tbody>\n",
       "</table>\n",
       "</div>"
      ]
     },
     "execution_count": 2,
     "metadata": {},
     "output_type": "execute_result"
    }
   ],
   "execution_count": 2
  },
  {
   "metadata": {},
   "cell_type": "markdown",
   "source": "## Dataset rating",
   "id": "694904c2d636b1e9"
  },
  {
   "metadata": {
    "ExecuteTime": {
     "end_time": "2025-05-11T20:03:21.723062Z",
     "start_time": "2025-05-11T20:03:21.711377Z"
    }
   },
   "cell_type": "code",
   "source": [
    "df_rating = pd.read_csv('./dataset/rating.csv')\n",
    "df_rating.head()"
   ],
   "id": "fb5bb11e4c9b2f49",
   "outputs": [
    {
     "data": {
      "text/plain": [
       "   User_Id  Place_Id            Nama Tempat  Place_Rating\n",
       "0        1         2   Agung Bali Oleh-Oleh             3\n",
       "1        1         7       Aloha Ubud Swing             5\n",
       "2        1         8         Bali Bird Park             5\n",
       "3        1        12      Big Garden Corner             2\n",
       "4        1        13  Wanagiri Hidden Hills             5"
      ],
      "text/html": [
       "<div>\n",
       "<style scoped>\n",
       "    .dataframe tbody tr th:only-of-type {\n",
       "        vertical-align: middle;\n",
       "    }\n",
       "\n",
       "    .dataframe tbody tr th {\n",
       "        vertical-align: top;\n",
       "    }\n",
       "\n",
       "    .dataframe thead th {\n",
       "        text-align: right;\n",
       "    }\n",
       "</style>\n",
       "<table border=\"1\" class=\"dataframe\">\n",
       "  <thead>\n",
       "    <tr style=\"text-align: right;\">\n",
       "      <th></th>\n",
       "      <th>User_Id</th>\n",
       "      <th>Place_Id</th>\n",
       "      <th>Nama Tempat</th>\n",
       "      <th>Place_Rating</th>\n",
       "    </tr>\n",
       "  </thead>\n",
       "  <tbody>\n",
       "    <tr>\n",
       "      <th>0</th>\n",
       "      <td>1</td>\n",
       "      <td>2</td>\n",
       "      <td>Agung Bali Oleh-Oleh</td>\n",
       "      <td>3</td>\n",
       "    </tr>\n",
       "    <tr>\n",
       "      <th>1</th>\n",
       "      <td>1</td>\n",
       "      <td>7</td>\n",
       "      <td>Aloha Ubud Swing</td>\n",
       "      <td>5</td>\n",
       "    </tr>\n",
       "    <tr>\n",
       "      <th>2</th>\n",
       "      <td>1</td>\n",
       "      <td>8</td>\n",
       "      <td>Bali Bird Park</td>\n",
       "      <td>5</td>\n",
       "    </tr>\n",
       "    <tr>\n",
       "      <th>3</th>\n",
       "      <td>1</td>\n",
       "      <td>12</td>\n",
       "      <td>Big Garden Corner</td>\n",
       "      <td>2</td>\n",
       "    </tr>\n",
       "    <tr>\n",
       "      <th>4</th>\n",
       "      <td>1</td>\n",
       "      <td>13</td>\n",
       "      <td>Wanagiri Hidden Hills</td>\n",
       "      <td>5</td>\n",
       "    </tr>\n",
       "  </tbody>\n",
       "</table>\n",
       "</div>"
      ]
     },
     "execution_count": 3,
     "metadata": {},
     "output_type": "execute_result"
    }
   ],
   "execution_count": 3
  },
  {
   "metadata": {
    "ExecuteTime": {
     "end_time": "2025-05-11T20:03:21.839067Z",
     "start_time": "2025-05-11T20:03:21.830059Z"
    }
   },
   "cell_type": "code",
   "source": "df_rating.dtypes",
   "id": "3222b868edfcda40",
   "outputs": [
    {
     "data": {
      "text/plain": [
       "User_Id          int64\n",
       "Place_Id         int64\n",
       "Nama Tempat     object\n",
       "Place_Rating     int64\n",
       "dtype: object"
      ]
     },
     "execution_count": 4,
     "metadata": {},
     "output_type": "execute_result"
    }
   ],
   "execution_count": 4
  },
  {
   "metadata": {},
   "cell_type": "markdown",
   "source": "Get user count",
   "id": "bce89b343f650373"
  },
  {
   "metadata": {
    "ExecuteTime": {
     "end_time": "2025-05-11T20:03:21.975971Z",
     "start_time": "2025-05-11T20:03:21.970558Z"
    }
   },
   "cell_type": "code",
   "source": [
    "user_count = df_rating['User_Id'].nunique()\n",
    "user_count"
   ],
   "id": "32a21bf3621f2204",
   "outputs": [
    {
     "data": {
      "text/plain": [
       "100"
      ]
     },
     "execution_count": 5,
     "metadata": {},
     "output_type": "execute_result"
    }
   ],
   "execution_count": 5
  },
  {
   "metadata": {
    "ExecuteTime": {
     "end_time": "2025-05-11T20:03:22.116095Z",
     "start_time": "2025-05-11T20:03:22.112097Z"
    }
   },
   "cell_type": "code",
   "source": "df_rating['User_Id'].unique()",
   "id": "81dd9904f48af1dd",
   "outputs": [
    {
     "data": {
      "text/plain": [
       "array([  1,   2,   3,   4,   5,   6,   7,   8,   9,  10,  11,  12,  13,\n",
       "        14,  15,  16,  17,  18,  19,  20,  21,  22,  23,  24,  25,  26,\n",
       "        27,  28,  29,  30,  31,  32,  33,  34,  35,  36,  37,  38,  39,\n",
       "        40,  41,  42,  43,  44,  45,  46,  47,  48,  49,  50,  51,  52,\n",
       "        53,  54,  55,  56,  57,  58,  59,  60,  61,  62,  63,  64,  65,\n",
       "        66,  67,  68,  69,  70,  71,  72,  73,  74,  75,  76,  77,  78,\n",
       "        79,  80,  81,  82,  83,  84,  85,  86,  87,  88,  89,  90,  91,\n",
       "        92,  93,  94,  95,  96,  97,  98,  99, 100], dtype=int64)"
      ]
     },
     "execution_count": 6,
     "metadata": {},
     "output_type": "execute_result"
    }
   ],
   "execution_count": 6
  },
  {
   "metadata": {},
   "cell_type": "markdown",
   "source": "## Dataset tourism",
   "id": "31b5a781427c58b9"
  },
  {
   "metadata": {
    "ExecuteTime": {
     "end_time": "2025-05-11T20:03:22.228650Z",
     "start_time": "2025-05-11T20:03:22.219896Z"
    }
   },
   "cell_type": "code",
   "source": [
    "df_tourism = pd.read_csv('./dataset/tourism.csv')\n",
    "df_tourism.head()"
   ],
   "id": "1f4f4ebcf2a41d9d",
   "outputs": [
    {
     "data": {
      "text/plain": [
       "   Place_Id                     Place_Name  \\\n",
       "0         1              Agrowisata Satria   \n",
       "1         2                     Agung Bali   \n",
       "2         3  Wisata Air Panas Toya Bungkah   \n",
       "3         4         Air Terjun Aling-Aling   \n",
       "4         5          Air Terjun Tegenungan   \n",
       "\n",
       "                                         Description  Weekend Holiday Price  \\\n",
       "0  Agrowisata Satria menawarkan 'rasa' Bali pada ...                  50000   \n",
       "1  Dapatkan berbagai produk oleh-oleh khas Bali b...                      0   \n",
       "2  Pemandian air panas di dekat gunung Batur (Pem...                  70000   \n",
       "3  Keberadaan air terjun ini semakin mempercantik...                  20000   \n",
       "4  Bosan dengan wisata alam pantai dan ingin meni...                  20000   \n",
       "\n",
       "   Weekday Price    Category      City  Rating  \\\n",
       "0          50000  Agrowisata   Gianyar     3.0   \n",
       "1              0     Belanja    Badung     4.0   \n",
       "2          70000        Alam    Bangli     4.0   \n",
       "3          20000        Alam  Buleleng     4.5   \n",
       "4          20000        Alam   Gianyar     4.0   \n",
       "\n",
       "                                              Alamat  \\\n",
       "0   Manukaya, Kec. Tampaksiring, Kabupaten Gianya...   \n",
       "1          Jln. Dewi Sri No.18XX, Kuta, Badung, Bali   \n",
       "2  Batur Tengah, Kec. Kintamani, Kabupaten Bangli...   \n",
       "3  Jl. Raya Desa Sambangan, Banjar, Sambangan, Ke...   \n",
       "4  Jl. Ir. Sutami, Kemenuh, Kec. Sukawati, Kabupa...   \n",
       "\n",
       "                               Coordinate       Lat        Long Gambar  \n",
       "0  -8.402228546131536, 115.32296693687739 -8.402229  115.322967      V  \n",
       "1    -8.700234336021559, 115.176534407375 -8.700234  115.176534      V  \n",
       "2  -8.251298580809106, 115.39981444195475 -8.251299  115.399814      V  \n",
       "3  -8.173073590748519, 115.10513024047802 -8.173074  115.105130      V  \n",
       "4  -8.575191460385602, 115.28870189592831 -8.575191  115.288702      V  "
      ],
      "text/html": [
       "<div>\n",
       "<style scoped>\n",
       "    .dataframe tbody tr th:only-of-type {\n",
       "        vertical-align: middle;\n",
       "    }\n",
       "\n",
       "    .dataframe tbody tr th {\n",
       "        vertical-align: top;\n",
       "    }\n",
       "\n",
       "    .dataframe thead th {\n",
       "        text-align: right;\n",
       "    }\n",
       "</style>\n",
       "<table border=\"1\" class=\"dataframe\">\n",
       "  <thead>\n",
       "    <tr style=\"text-align: right;\">\n",
       "      <th></th>\n",
       "      <th>Place_Id</th>\n",
       "      <th>Place_Name</th>\n",
       "      <th>Description</th>\n",
       "      <th>Weekend Holiday Price</th>\n",
       "      <th>Weekday Price</th>\n",
       "      <th>Category</th>\n",
       "      <th>City</th>\n",
       "      <th>Rating</th>\n",
       "      <th>Alamat</th>\n",
       "      <th>Coordinate</th>\n",
       "      <th>Lat</th>\n",
       "      <th>Long</th>\n",
       "      <th>Gambar</th>\n",
       "    </tr>\n",
       "  </thead>\n",
       "  <tbody>\n",
       "    <tr>\n",
       "      <th>0</th>\n",
       "      <td>1</td>\n",
       "      <td>Agrowisata Satria</td>\n",
       "      <td>Agrowisata Satria menawarkan 'rasa' Bali pada ...</td>\n",
       "      <td>50000</td>\n",
       "      <td>50000</td>\n",
       "      <td>Agrowisata</td>\n",
       "      <td>Gianyar</td>\n",
       "      <td>3.0</td>\n",
       "      <td>Manukaya, Kec. Tampaksiring, Kabupaten Gianya...</td>\n",
       "      <td>-8.402228546131536, 115.32296693687739</td>\n",
       "      <td>-8.402229</td>\n",
       "      <td>115.322967</td>\n",
       "      <td>V</td>\n",
       "    </tr>\n",
       "    <tr>\n",
       "      <th>1</th>\n",
       "      <td>2</td>\n",
       "      <td>Agung Bali</td>\n",
       "      <td>Dapatkan berbagai produk oleh-oleh khas Bali b...</td>\n",
       "      <td>0</td>\n",
       "      <td>0</td>\n",
       "      <td>Belanja</td>\n",
       "      <td>Badung</td>\n",
       "      <td>4.0</td>\n",
       "      <td>Jln. Dewi Sri No.18XX, Kuta, Badung, Bali</td>\n",
       "      <td>-8.700234336021559, 115.176534407375</td>\n",
       "      <td>-8.700234</td>\n",
       "      <td>115.176534</td>\n",
       "      <td>V</td>\n",
       "    </tr>\n",
       "    <tr>\n",
       "      <th>2</th>\n",
       "      <td>3</td>\n",
       "      <td>Wisata Air Panas Toya Bungkah</td>\n",
       "      <td>Pemandian air panas di dekat gunung Batur (Pem...</td>\n",
       "      <td>70000</td>\n",
       "      <td>70000</td>\n",
       "      <td>Alam</td>\n",
       "      <td>Bangli</td>\n",
       "      <td>4.0</td>\n",
       "      <td>Batur Tengah, Kec. Kintamani, Kabupaten Bangli...</td>\n",
       "      <td>-8.251298580809106, 115.39981444195475</td>\n",
       "      <td>-8.251299</td>\n",
       "      <td>115.399814</td>\n",
       "      <td>V</td>\n",
       "    </tr>\n",
       "    <tr>\n",
       "      <th>3</th>\n",
       "      <td>4</td>\n",
       "      <td>Air Terjun Aling-Aling</td>\n",
       "      <td>Keberadaan air terjun ini semakin mempercantik...</td>\n",
       "      <td>20000</td>\n",
       "      <td>20000</td>\n",
       "      <td>Alam</td>\n",
       "      <td>Buleleng</td>\n",
       "      <td>4.5</td>\n",
       "      <td>Jl. Raya Desa Sambangan, Banjar, Sambangan, Ke...</td>\n",
       "      <td>-8.173073590748519, 115.10513024047802</td>\n",
       "      <td>-8.173074</td>\n",
       "      <td>115.105130</td>\n",
       "      <td>V</td>\n",
       "    </tr>\n",
       "    <tr>\n",
       "      <th>4</th>\n",
       "      <td>5</td>\n",
       "      <td>Air Terjun Tegenungan</td>\n",
       "      <td>Bosan dengan wisata alam pantai dan ingin meni...</td>\n",
       "      <td>20000</td>\n",
       "      <td>20000</td>\n",
       "      <td>Alam</td>\n",
       "      <td>Gianyar</td>\n",
       "      <td>4.0</td>\n",
       "      <td>Jl. Ir. Sutami, Kemenuh, Kec. Sukawati, Kabupa...</td>\n",
       "      <td>-8.575191460385602, 115.28870189592831</td>\n",
       "      <td>-8.575191</td>\n",
       "      <td>115.288702</td>\n",
       "      <td>V</td>\n",
       "    </tr>\n",
       "  </tbody>\n",
       "</table>\n",
       "</div>"
      ]
     },
     "execution_count": 7,
     "metadata": {},
     "output_type": "execute_result"
    }
   ],
   "execution_count": 7
  },
  {
   "metadata": {
    "ExecuteTime": {
     "end_time": "2025-05-11T20:03:22.318304Z",
     "start_time": "2025-05-11T20:03:22.314088Z"
    }
   },
   "cell_type": "code",
   "source": "df_tourism.dtypes",
   "id": "7b90760cb66f8581",
   "outputs": [
    {
     "data": {
      "text/plain": [
       "Place_Id                   int64\n",
       "Place_Name                object\n",
       "Description               object\n",
       "Weekend Holiday Price      int64\n",
       "Weekday Price              int64\n",
       "Category                  object\n",
       "City                      object\n",
       "Rating                   float64\n",
       "Alamat                    object\n",
       "Coordinate                object\n",
       "Lat                      float64\n",
       "Long                     float64\n",
       "Gambar                    object\n",
       "dtype: object"
      ]
     },
     "execution_count": 8,
     "metadata": {},
     "output_type": "execute_result"
    }
   ],
   "execution_count": 8
  },
  {
   "metadata": {},
   "cell_type": "markdown",
   "source": "Get POI count",
   "id": "31917f586d37d76"
  },
  {
   "metadata": {
    "ExecuteTime": {
     "end_time": "2025-05-11T20:03:22.459574Z",
     "start_time": "2025-05-11T20:03:22.456069Z"
    }
   },
   "cell_type": "code",
   "source": [
    "poi_count = df_rating['Place_Id'].nunique()\n",
    "poi_count"
   ],
   "id": "c04f16a2218420f8",
   "outputs": [
    {
     "data": {
      "text/plain": [
       "75"
      ]
     },
     "execution_count": 9,
     "metadata": {},
     "output_type": "execute_result"
    }
   ],
   "execution_count": 9
  },
  {
   "metadata": {
    "ExecuteTime": {
     "end_time": "2025-05-11T20:03:22.605206Z",
     "start_time": "2025-05-11T20:03:22.600118Z"
    }
   },
   "cell_type": "code",
   "source": "np.sort(df_rating['Place_Id'].unique())",
   "id": "7ca56c0b10fd2fa0",
   "outputs": [
    {
     "data": {
      "text/plain": [
       "array([ 1,  2,  3,  4,  5,  6,  7,  8,  9, 10, 11, 12, 13, 14, 15, 16, 17,\n",
       "       18, 19, 20, 21, 22, 23, 24, 25, 26, 27, 28, 29, 30, 31, 32, 33, 34,\n",
       "       35, 36, 37, 38, 39, 40, 41, 42, 43, 44, 45, 46, 47, 48, 49, 50, 51,\n",
       "       52, 53, 54, 55, 56, 57, 58, 59, 60, 61, 62, 63, 64, 65, 66, 67, 68,\n",
       "       69, 70, 71, 72, 73, 74, 75], dtype=int64)"
      ]
     },
     "execution_count": 10,
     "metadata": {},
     "output_type": "execute_result"
    }
   ],
   "execution_count": 10
  },
  {
   "metadata": {},
   "cell_type": "markdown",
   "source": "# Membuat matriks user-rating",
   "id": "843710b1df0b5d26"
  },
  {
   "metadata": {
    "ExecuteTime": {
     "end_time": "2025-05-11T20:03:22.793857Z",
     "start_time": "2025-05-11T20:03:22.789908Z"
    }
   },
   "cell_type": "code",
   "source": "matrix_user_rating = np.zeros((poi_count, user_count))",
   "id": "381f4319b468d863",
   "outputs": [],
   "execution_count": 11
  },
  {
   "metadata": {
    "ExecuteTime": {
     "end_time": "2025-05-11T20:03:23.895203Z",
     "start_time": "2025-05-11T20:03:22.841759Z"
    }
   },
   "cell_type": "code",
   "source": [
    "for i in range(0, poi_count):\n",
    "    for j in range(0, user_count):\n",
    "        try:\n",
    "            matrix_user_rating[i][j] = df_rating[(df_rating['User_Id'] == i + 1 )& (df_rating['Place_Id'] == j + 1)].iloc[0]['Place_Rating']\n",
    "        except Exception:\n",
    "            continue"
   ],
   "id": "d030088fc281c334",
   "outputs": [],
   "execution_count": 12
  },
  {
   "metadata": {
    "ExecuteTime": {
     "end_time": "2025-05-11T20:03:23.914303Z",
     "start_time": "2025-05-11T20:03:23.910790Z"
    }
   },
   "cell_type": "code",
   "source": "matrix_user_rating",
   "id": "b873a2de0313bfb2",
   "outputs": [
    {
     "data": {
      "text/plain": [
       "array([[0., 3., 0., ..., 0., 0., 0.],\n",
       "       [0., 3., 5., ..., 0., 0., 0.],\n",
       "       [4., 5., 0., ..., 0., 0., 0.],\n",
       "       ...,\n",
       "       [0., 3., 0., ..., 0., 0., 0.],\n",
       "       [4., 4., 5., ..., 0., 0., 0.],\n",
       "       [1., 0., 0., ..., 0., 0., 0.]])"
      ]
     },
     "execution_count": 13,
     "metadata": {},
     "output_type": "execute_result"
    }
   ],
   "execution_count": 13
  },
  {
   "metadata": {
    "ExecuteTime": {
     "end_time": "2025-05-11T20:03:23.994236Z",
     "start_time": "2025-05-11T20:03:23.980713Z"
    }
   },
   "cell_type": "code",
   "source": [
    "df_user_rating = pd.DataFrame(matrix_user_rating,\n",
    "                              index=range(1, poi_count + 1),\n",
    "                              columns=range(1, user_count + 1))\n",
    "df_user_rating.head()\n"
   ],
   "id": "42ffbc103a289305",
   "outputs": [
    {
     "data": {
      "text/plain": [
       "   1    2    3    4    5    6    7    8    9    10   ...  91   92   93   94   \\\n",
       "1  0.0  3.0  0.0  0.0  0.0  0.0  5.0  5.0  0.0  0.0  ...  0.0  0.0  0.0  0.0   \n",
       "2  0.0  3.0  5.0  0.0  2.0  3.0  5.0  5.0  0.0  5.0  ...  0.0  0.0  0.0  0.0   \n",
       "3  4.0  5.0  0.0  5.0  0.0  1.0  0.0  5.0  4.0  0.0  ...  0.0  0.0  0.0  0.0   \n",
       "4  4.0  0.0  3.0  5.0  0.0  0.0  0.0  1.0  0.0  5.0  ...  0.0  0.0  0.0  0.0   \n",
       "5  1.0  0.0  5.0  0.0  4.0  0.0  0.0  0.0  0.0  5.0  ...  0.0  0.0  0.0  0.0   \n",
       "\n",
       "   95   96   97   98   99   100  \n",
       "1  0.0  0.0  0.0  0.0  0.0  0.0  \n",
       "2  0.0  0.0  0.0  0.0  0.0  0.0  \n",
       "3  0.0  0.0  0.0  0.0  0.0  0.0  \n",
       "4  0.0  0.0  0.0  0.0  0.0  0.0  \n",
       "5  0.0  0.0  0.0  0.0  0.0  0.0  \n",
       "\n",
       "[5 rows x 100 columns]"
      ],
      "text/html": [
       "<div>\n",
       "<style scoped>\n",
       "    .dataframe tbody tr th:only-of-type {\n",
       "        vertical-align: middle;\n",
       "    }\n",
       "\n",
       "    .dataframe tbody tr th {\n",
       "        vertical-align: top;\n",
       "    }\n",
       "\n",
       "    .dataframe thead th {\n",
       "        text-align: right;\n",
       "    }\n",
       "</style>\n",
       "<table border=\"1\" class=\"dataframe\">\n",
       "  <thead>\n",
       "    <tr style=\"text-align: right;\">\n",
       "      <th></th>\n",
       "      <th>1</th>\n",
       "      <th>2</th>\n",
       "      <th>3</th>\n",
       "      <th>4</th>\n",
       "      <th>5</th>\n",
       "      <th>6</th>\n",
       "      <th>7</th>\n",
       "      <th>8</th>\n",
       "      <th>9</th>\n",
       "      <th>10</th>\n",
       "      <th>...</th>\n",
       "      <th>91</th>\n",
       "      <th>92</th>\n",
       "      <th>93</th>\n",
       "      <th>94</th>\n",
       "      <th>95</th>\n",
       "      <th>96</th>\n",
       "      <th>97</th>\n",
       "      <th>98</th>\n",
       "      <th>99</th>\n",
       "      <th>100</th>\n",
       "    </tr>\n",
       "  </thead>\n",
       "  <tbody>\n",
       "    <tr>\n",
       "      <th>1</th>\n",
       "      <td>0.0</td>\n",
       "      <td>3.0</td>\n",
       "      <td>0.0</td>\n",
       "      <td>0.0</td>\n",
       "      <td>0.0</td>\n",
       "      <td>0.0</td>\n",
       "      <td>5.0</td>\n",
       "      <td>5.0</td>\n",
       "      <td>0.0</td>\n",
       "      <td>0.0</td>\n",
       "      <td>...</td>\n",
       "      <td>0.0</td>\n",
       "      <td>0.0</td>\n",
       "      <td>0.0</td>\n",
       "      <td>0.0</td>\n",
       "      <td>0.0</td>\n",
       "      <td>0.0</td>\n",
       "      <td>0.0</td>\n",
       "      <td>0.0</td>\n",
       "      <td>0.0</td>\n",
       "      <td>0.0</td>\n",
       "    </tr>\n",
       "    <tr>\n",
       "      <th>2</th>\n",
       "      <td>0.0</td>\n",
       "      <td>3.0</td>\n",
       "      <td>5.0</td>\n",
       "      <td>0.0</td>\n",
       "      <td>2.0</td>\n",
       "      <td>3.0</td>\n",
       "      <td>5.0</td>\n",
       "      <td>5.0</td>\n",
       "      <td>0.0</td>\n",
       "      <td>5.0</td>\n",
       "      <td>...</td>\n",
       "      <td>0.0</td>\n",
       "      <td>0.0</td>\n",
       "      <td>0.0</td>\n",
       "      <td>0.0</td>\n",
       "      <td>0.0</td>\n",
       "      <td>0.0</td>\n",
       "      <td>0.0</td>\n",
       "      <td>0.0</td>\n",
       "      <td>0.0</td>\n",
       "      <td>0.0</td>\n",
       "    </tr>\n",
       "    <tr>\n",
       "      <th>3</th>\n",
       "      <td>4.0</td>\n",
       "      <td>5.0</td>\n",
       "      <td>0.0</td>\n",
       "      <td>5.0</td>\n",
       "      <td>0.0</td>\n",
       "      <td>1.0</td>\n",
       "      <td>0.0</td>\n",
       "      <td>5.0</td>\n",
       "      <td>4.0</td>\n",
       "      <td>0.0</td>\n",
       "      <td>...</td>\n",
       "      <td>0.0</td>\n",
       "      <td>0.0</td>\n",
       "      <td>0.0</td>\n",
       "      <td>0.0</td>\n",
       "      <td>0.0</td>\n",
       "      <td>0.0</td>\n",
       "      <td>0.0</td>\n",
       "      <td>0.0</td>\n",
       "      <td>0.0</td>\n",
       "      <td>0.0</td>\n",
       "    </tr>\n",
       "    <tr>\n",
       "      <th>4</th>\n",
       "      <td>4.0</td>\n",
       "      <td>0.0</td>\n",
       "      <td>3.0</td>\n",
       "      <td>5.0</td>\n",
       "      <td>0.0</td>\n",
       "      <td>0.0</td>\n",
       "      <td>0.0</td>\n",
       "      <td>1.0</td>\n",
       "      <td>0.0</td>\n",
       "      <td>5.0</td>\n",
       "      <td>...</td>\n",
       "      <td>0.0</td>\n",
       "      <td>0.0</td>\n",
       "      <td>0.0</td>\n",
       "      <td>0.0</td>\n",
       "      <td>0.0</td>\n",
       "      <td>0.0</td>\n",
       "      <td>0.0</td>\n",
       "      <td>0.0</td>\n",
       "      <td>0.0</td>\n",
       "      <td>0.0</td>\n",
       "    </tr>\n",
       "    <tr>\n",
       "      <th>5</th>\n",
       "      <td>1.0</td>\n",
       "      <td>0.0</td>\n",
       "      <td>5.0</td>\n",
       "      <td>0.0</td>\n",
       "      <td>4.0</td>\n",
       "      <td>0.0</td>\n",
       "      <td>0.0</td>\n",
       "      <td>0.0</td>\n",
       "      <td>0.0</td>\n",
       "      <td>5.0</td>\n",
       "      <td>...</td>\n",
       "      <td>0.0</td>\n",
       "      <td>0.0</td>\n",
       "      <td>0.0</td>\n",
       "      <td>0.0</td>\n",
       "      <td>0.0</td>\n",
       "      <td>0.0</td>\n",
       "      <td>0.0</td>\n",
       "      <td>0.0</td>\n",
       "      <td>0.0</td>\n",
       "      <td>0.0</td>\n",
       "    </tr>\n",
       "  </tbody>\n",
       "</table>\n",
       "<p>5 rows × 100 columns</p>\n",
       "</div>"
      ]
     },
     "execution_count": 14,
     "metadata": {},
     "output_type": "execute_result"
    }
   ],
   "execution_count": 14
  },
  {
   "metadata": {
    "ExecuteTime": {
     "end_time": "2025-05-11T20:03:24.210012Z",
     "start_time": "2025-05-11T20:03:24.200924Z"
    }
   },
   "cell_type": "code",
   "source": "df_user_rating.to_csv('./dataset/user_rating.csv', index=False)",
   "id": "4019db88360d5167",
   "outputs": [],
   "execution_count": 15
  }
 ],
 "metadata": {
  "kernelspec": {
   "display_name": "Python 3",
   "language": "python",
   "name": "python3"
  },
  "language_info": {
   "codemirror_mode": {
    "name": "ipython",
    "version": 2
   },
   "file_extension": ".py",
   "mimetype": "text/x-python",
   "name": "python",
   "nbconvert_exporter": "python",
   "pygments_lexer": "ipython2",
   "version": "2.7.6"
  }
 },
 "nbformat": 4,
 "nbformat_minor": 5
}
